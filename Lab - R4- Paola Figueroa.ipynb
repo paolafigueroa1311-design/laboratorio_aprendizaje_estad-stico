{
 "cells": [
  {
   "cell_type": "markdown",
   "id": "2e2753e4-9dc7-41d7-b080-d1abfbb16b28",
   "metadata": {},
   "source": [
    "# Laboratorio de regresión - 4"
   ]
  },
  {
   "cell_type": "markdown",
   "id": "c396ea70-b88c-4346-a14f-4aa7ca2e1b00",
   "metadata": {},
   "source": [
    "|                |   |\n",
    ":----------------|---|\n",
    "| **Nombre**     | Paola A. Figueroa Álvarez  |\n",
    "| **Fecha**      |  6/09/2025 |\n",
    "| **Expediente** |  751310 |"
   ]
  },
  {
   "cell_type": "markdown",
   "id": "77def53e-10bf-474e-acdf-728e07bef102",
   "metadata": {},
   "source": [
    "## Modelos penalizados"
   ]
  },
  {
   "cell_type": "markdown",
   "id": "d9bb791d-1843-4b4d-bd8b-69e6419511e8",
   "metadata": {},
   "source": [
    "Hasta ahora la función de costo que usamos para decidir qué tan bueno es nuestro modelo al momento de ajustar es:\n",
    "\n",
    "$$ \\text{RSS} = \\sum_{i=1}^n e_i^2 = \\sum_{i=1}^n (y_i - \\hat{y_i})^2 $$"
   ]
  },
  {
   "cell_type": "markdown",
   "id": "4e6b5e6b-abe9-4b75-b045-e4444de4fc35",
   "metadata": {},
   "source": [
    "Dado que los errores obtenidos son una combinación de sesgo y varianza, puede ser que se sesgue un parámetro para minimizar el error. Esto significa que el modelo puede decidir que la salida no sea una combinación de los factores, sino una fuerte predilección sobre uno de los factores solamente. "
   ]
  },
  {
   "cell_type": "markdown",
   "id": "84901f9e-5551-455a-a70c-c7e39d9e55ae",
   "metadata": {},
   "source": [
    "E.g. se quiere ajustar un modelo\n",
    "\n",
    "$$ \\hat{z} = \\hat{\\beta_0} + \\hat{\\beta_1} x + \\hat{\\beta_2} y $$"
   ]
  },
  {
   "cell_type": "markdown",
   "id": "d6f473fc-6364-4b15-9bd4-f21a94cae151",
   "metadata": {},
   "source": [
    "Se ajusta el modelo y se decide que la mejor decisión es $\\hat{\\beta_1} = 10000$ y $\\hat{\\beta_2}=50$. Considera limitaciones de problemas reales:\n",
    "- Quizás los parámetros son ajustes de maquinaria que se deben realizar para conseguir el mejor producto posible, y que $10000$ sea imposible de asignar.\n",
    "- Quizás los datos actuales están sesgados y sólo hacen parecer que uno de los factores importa más que el otro."
   ]
  },
  {
   "cell_type": "markdown",
   "id": "ff32fbaa-7965-42c1-9b73-3640414b77f2",
   "metadata": {},
   "source": [
    "Una de las formas en las que se puede mitigar este problema es penalizando a los parámetros del modelo, cambiando la función de costo:"
   ]
  },
  {
   "cell_type": "markdown",
   "id": "3fc78736-9d8e-4e8b-94f3-6647bdaeb0d1",
   "metadata": {},
   "source": [
    "$$ \\text{RSS}_{L2} = \\sum_{i=1}^n e_i^2  + \\lambda \\sum_{j=1}^p \\hat{\\beta_j}^2 $$"
   ]
  },
  {
   "cell_type": "markdown",
   "id": "2d942bf5-fb39-44a0-b612-4ec05ab99b71",
   "metadata": {},
   "source": [
    "El *L2* significa que se está agregando una penalización de segundo orden. Lo que hace esta penalización es que los factores ahora sólo tendrán permitido crecer si hay una reducción al menos proporcional en el error (sacrificamos sesgo, pero reducimos la varianza)."
   ]
  },
  {
   "cell_type": "markdown",
   "id": "45c0cafb-c152-48e4-a345-bb5348eb16c7",
   "metadata": {},
   "source": [
    "Asimismo, existe la penalización *L1*"
   ]
  },
  {
   "cell_type": "markdown",
   "id": "9d9f2d93-d151-47ed-834f-4a7e91e94286",
   "metadata": {},
   "source": [
    "$$ \\text{RSS}_{L1} = \\sum_{i=1}^n e_i^2  + \\lambda \\sum_{j=1}^p |\\hat{\\beta_j}| $$"
   ]
  },
  {
   "cell_type": "markdown",
   "id": "ea95f232-25ab-4b4c-99b3-075a18878d95",
   "metadata": {},
   "source": [
    "A las penalizaciones *L2* y *L1* se les conoce también como Ridge y Lasso, respectivamente."
   ]
  },
  {
   "cell_type": "markdown",
   "id": "e41dfafb-fd1f-475a-a718-dec1e3773326",
   "metadata": {},
   "source": [
    "Para realizar una regresión con penalización de Ridge o de Lasso usamos el objeto `Ridge(alpha=?)` o `Lasso(alpha=?)` en lugar de `LinearRegression()` de `sklearn`."
   ]
  },
  {
   "cell_type": "markdown",
   "id": "ce36cb41-005e-4cb0-b8ab-92e6ae6c4c19",
   "metadata": {},
   "source": [
    "Utiliza el dataset de publicidad (Advertising.csv) y realiza 3 regresiones múltiples:\n",
    "\n",
    "$$ \\text{sales} = \\beta_0 + \\beta_1 (\\text{TV}) + \\beta_2 (\\text{radio}) + \\beta_3 (\\text{newspaper}) + \\epsilon $$"
   ]
  },
  {
   "cell_type": "markdown",
   "id": "d92e4008-ada1-4e82-9756-23fd357821d2",
   "metadata": {},
   "source": [
    "1. Sin penalización\n",
    "2. Con penalización L2\n",
    "3. Con penalización L1\n",
    "\n",
    "Compara los resultados de los parámetros y sus *p-values*, y los $R^2$ resultantes."
   ]
  },
  {
   "cell_type": "markdown",
   "id": "215c2482",
   "metadata": {},
   "source": [
    "### Insertar librerias"
   ]
  },
  {
   "cell_type": "code",
   "execution_count": 26,
   "id": "ee70268d",
   "metadata": {},
   "outputs": [
    {
     "name": "stdout",
     "output_type": "stream",
     "text": [
      "Requirement already satisfied: pandas in /Users/paofigueroa/Documents/sem 5/Lab de aprendizaje estadístico/.venv/lib/python3.12/site-packages (2.3.2)\n",
      "Requirement already satisfied: numpy in /Users/paofigueroa/Documents/sem 5/Lab de aprendizaje estadístico/.venv/lib/python3.12/site-packages (2.3.2)\n",
      "Requirement already satisfied: matplotlib in /Users/paofigueroa/Documents/sem 5/Lab de aprendizaje estadístico/.venv/lib/python3.12/site-packages (3.10.6)\n",
      "Requirement already satisfied: scikit-learn in /Users/paofigueroa/Documents/sem 5/Lab de aprendizaje estadístico/.venv/lib/python3.12/site-packages (1.7.1)\n",
      "Requirement already satisfied: python-dateutil>=2.8.2 in /Users/paofigueroa/Documents/sem 5/Lab de aprendizaje estadístico/.venv/lib/python3.12/site-packages (from pandas) (2.9.0.post0)\n",
      "Requirement already satisfied: pytz>=2020.1 in /Users/paofigueroa/Documents/sem 5/Lab de aprendizaje estadístico/.venv/lib/python3.12/site-packages (from pandas) (2025.2)\n",
      "Requirement already satisfied: tzdata>=2022.7 in /Users/paofigueroa/Documents/sem 5/Lab de aprendizaje estadístico/.venv/lib/python3.12/site-packages (from pandas) (2025.2)\n",
      "Requirement already satisfied: contourpy>=1.0.1 in /Users/paofigueroa/Documents/sem 5/Lab de aprendizaje estadístico/.venv/lib/python3.12/site-packages (from matplotlib) (1.3.3)\n",
      "Requirement already satisfied: cycler>=0.10 in /Users/paofigueroa/Documents/sem 5/Lab de aprendizaje estadístico/.venv/lib/python3.12/site-packages (from matplotlib) (0.12.1)\n",
      "Requirement already satisfied: fonttools>=4.22.0 in /Users/paofigueroa/Documents/sem 5/Lab de aprendizaje estadístico/.venv/lib/python3.12/site-packages (from matplotlib) (4.59.2)\n",
      "Requirement already satisfied: kiwisolver>=1.3.1 in /Users/paofigueroa/Documents/sem 5/Lab de aprendizaje estadístico/.venv/lib/python3.12/site-packages (from matplotlib) (1.4.9)\n",
      "Requirement already satisfied: packaging>=20.0 in /Users/paofigueroa/Documents/sem 5/Lab de aprendizaje estadístico/.venv/lib/python3.12/site-packages (from matplotlib) (25.0)\n",
      "Requirement already satisfied: pillow>=8 in /Users/paofigueroa/Documents/sem 5/Lab de aprendizaje estadístico/.venv/lib/python3.12/site-packages (from matplotlib) (11.3.0)\n",
      "Requirement already satisfied: pyparsing>=2.3.1 in /Users/paofigueroa/Documents/sem 5/Lab de aprendizaje estadístico/.venv/lib/python3.12/site-packages (from matplotlib) (3.2.3)\n",
      "Requirement already satisfied: scipy>=1.8.0 in /Users/paofigueroa/Documents/sem 5/Lab de aprendizaje estadístico/.venv/lib/python3.12/site-packages (from scikit-learn) (1.16.1)\n",
      "Requirement already satisfied: joblib>=1.2.0 in /Users/paofigueroa/Documents/sem 5/Lab de aprendizaje estadístico/.venv/lib/python3.12/site-packages (from scikit-learn) (1.5.2)\n",
      "Requirement already satisfied: threadpoolctl>=3.1.0 in /Users/paofigueroa/Documents/sem 5/Lab de aprendizaje estadístico/.venv/lib/python3.12/site-packages (from scikit-learn) (3.6.0)\n",
      "Requirement already satisfied: six>=1.5 in /Users/paofigueroa/Documents/sem 5/Lab de aprendizaje estadístico/.venv/lib/python3.12/site-packages (from python-dateutil>=2.8.2->pandas) (1.17.0)\n",
      "\n",
      "\u001b[1m[\u001b[0m\u001b[34;49mnotice\u001b[0m\u001b[1;39;49m]\u001b[0m\u001b[39;49m A new release of pip is available: \u001b[0m\u001b[31;49m23.2.1\u001b[0m\u001b[39;49m -> \u001b[0m\u001b[32;49m25.2\u001b[0m\n",
      "\u001b[1m[\u001b[0m\u001b[34;49mnotice\u001b[0m\u001b[1;39;49m]\u001b[0m\u001b[39;49m To update, run: \u001b[0m\u001b[32;49mpython3.12 -m pip install --upgrade pip\u001b[0m\n"
     ]
    }
   ],
   "source": [
    "!pip install pandas numpy matplotlib scikit-learn"
   ]
  },
  {
   "cell_type": "code",
   "execution_count": 1,
   "id": "096bcccd",
   "metadata": {},
   "outputs": [],
   "source": [
    "import pandas as pd\n",
    "import numpy as np\n",
    "import matplotlib.pyplot as plt\n",
    "from sklearn.metrics import r2_score\n",
    "from sklearn.linear_model import LinearRegression\n",
    "from scipy import stats "
   ]
  },
  {
   "cell_type": "markdown",
   "id": "f91a9ab2",
   "metadata": {},
   "source": []
  },
  {
   "cell_type": "code",
   "execution_count": 2,
   "id": "2dd61a1c",
   "metadata": {},
   "outputs": [
    {
     "data": {
      "text/html": [
       "<div>\n",
       "<style scoped>\n",
       "    .dataframe tbody tr th:only-of-type {\n",
       "        vertical-align: middle;\n",
       "    }\n",
       "\n",
       "    .dataframe tbody tr th {\n",
       "        vertical-align: top;\n",
       "    }\n",
       "\n",
       "    .dataframe thead th {\n",
       "        text-align: right;\n",
       "    }\n",
       "</style>\n",
       "<table border=\"1\" class=\"dataframe\">\n",
       "  <thead>\n",
       "    <tr style=\"text-align: right;\">\n",
       "      <th></th>\n",
       "      <th>Unnamed: 0</th>\n",
       "      <th>TV</th>\n",
       "      <th>radio</th>\n",
       "      <th>newspaper</th>\n",
       "      <th>sales</th>\n",
       "    </tr>\n",
       "  </thead>\n",
       "  <tbody>\n",
       "    <tr>\n",
       "      <th>0</th>\n",
       "      <td>1</td>\n",
       "      <td>230.1</td>\n",
       "      <td>37.8</td>\n",
       "      <td>69.2</td>\n",
       "      <td>22.1</td>\n",
       "    </tr>\n",
       "    <tr>\n",
       "      <th>1</th>\n",
       "      <td>2</td>\n",
       "      <td>44.5</td>\n",
       "      <td>39.3</td>\n",
       "      <td>45.1</td>\n",
       "      <td>10.4</td>\n",
       "    </tr>\n",
       "    <tr>\n",
       "      <th>2</th>\n",
       "      <td>3</td>\n",
       "      <td>17.2</td>\n",
       "      <td>45.9</td>\n",
       "      <td>69.3</td>\n",
       "      <td>9.3</td>\n",
       "    </tr>\n",
       "    <tr>\n",
       "      <th>3</th>\n",
       "      <td>4</td>\n",
       "      <td>151.5</td>\n",
       "      <td>41.3</td>\n",
       "      <td>58.5</td>\n",
       "      <td>18.5</td>\n",
       "    </tr>\n",
       "    <tr>\n",
       "      <th>4</th>\n",
       "      <td>5</td>\n",
       "      <td>180.8</td>\n",
       "      <td>10.8</td>\n",
       "      <td>58.4</td>\n",
       "      <td>12.9</td>\n",
       "    </tr>\n",
       "  </tbody>\n",
       "</table>\n",
       "</div>"
      ],
      "text/plain": [
       "   Unnamed: 0     TV  radio  newspaper  sales\n",
       "0           1  230.1   37.8       69.2   22.1\n",
       "1           2   44.5   39.3       45.1   10.4\n",
       "2           3   17.2   45.9       69.3    9.3\n",
       "3           4  151.5   41.3       58.5   18.5\n",
       "4           5  180.8   10.8       58.4   12.9"
      ]
     },
     "execution_count": 2,
     "metadata": {},
     "output_type": "execute_result"
    }
   ],
   "source": [
    "data=pd.read_csv(\"/Users/paofigueroa/Documents/sem 5/Lab de aprendizaje estadístico/Advertising.csv\")\n",
    "data.head()"
   ]
  },
  {
   "cell_type": "markdown",
   "id": "0a2a9acb",
   "metadata": {},
   "source": [
    "### Regresión sin penalización"
   ]
  },
  {
   "cell_type": "code",
   "execution_count": 3,
   "id": "50bac2be",
   "metadata": {},
   "outputs": [],
   "source": [
    "x1=data.TV.values.reshape([-1,1])\n",
    "x2=data.radio.values.reshape([-1,1])\n",
    "x3=data.newspaper.values.reshape([-1,1])\n",
    "y=data.sales"
   ]
  },
  {
   "cell_type": "code",
   "execution_count": 4,
   "id": "595d91fa",
   "metadata": {},
   "outputs": [
    {
     "name": "stdout",
     "output_type": "stream",
     "text": [
      "Intercept: 2.9388893694594085\n",
      "Coeficientes: [ 0.04576465  0.18853002 -0.00103749]\n",
      "R2 total: 0.8972106381789522\n"
     ]
    }
   ],
   "source": [
    "X = data[['TV', 'radio', 'newspaper']]\n",
    "y = data['sales']\n",
    "\n",
    "lr = LinearRegression()\n",
    "lr.fit(X, y)\n",
    "\n",
    "print(\"Intercept:\", lr.intercept_)\n",
    "print(\"Coeficientes:\", lr.coef_)\n",
    "r2_total = r2_score(y, lr.predict(X))\n",
    "p_value = 1 - r2_total\n",
    "print(\"R2 total:\", r2_total)"
   ]
  },
  {
   "cell_type": "code",
   "execution_count": 5,
   "id": "ef7637f6",
   "metadata": {},
   "outputs": [
    {
     "data": {
      "text/plain": [
       "np.float64(556.8252629021869)"
      ]
     },
     "execution_count": 5,
     "metadata": {},
     "output_type": "execute_result"
    }
   ],
   "source": [
    "y_mean = np.mean(y)\n",
    "TSS = np.sum((y - y_mean) ** 2)\n",
    "RSS = (1-r2_total) * TSS\n",
    "RSS"
   ]
  },
  {
   "cell_type": "code",
   "execution_count": 6,
   "id": "baaac070",
   "metadata": {},
   "outputs": [
    {
     "data": {
      "text/plain": [
       "np.float64(2.8409452188887085)"
      ]
     },
     "execution_count": 6,
     "metadata": {},
     "output_type": "execute_result"
    }
   ],
   "source": [
    "p=4\n",
    "RSE= RSS/((len(y)-p))\n",
    "RSE"
   ]
  },
  {
   "cell_type": "code",
   "execution_count": 7,
   "id": "8f0dff96",
   "metadata": {},
   "outputs": [
    {
     "data": {
      "text/plain": [
       "array([[ 2.76386321e-01, -7.54916809e-04, -3.16904445e-03,\n",
       "        -1.67905896e-03],\n",
       "       [-7.54916809e-04,  5.52773252e-06, -1.27001463e-06,\n",
       "        -9.27838579e-07],\n",
       "       [-3.16904445e-03, -1.27001463e-06,  2.10665606e-04,\n",
       "        -5.05705992e-05],\n",
       "       [-1.67905896e-03, -9.27838579e-07, -5.05705992e-05,\n",
       "         9.79238427e-05]])"
      ]
     },
     "execution_count": 7,
     "metadata": {},
     "output_type": "execute_result"
    }
   ],
   "source": [
    "n=len(y)\n",
    "unos=np.ones([n,1])\n",
    "X=np.hstack([unos, x1,x2,x3])\n",
    "var_beta1 = np.linalg.inv(X.T @ X) *RSE**2\n",
    "var_beta1"
   ]
  },
  {
   "cell_type": "code",
   "execution_count": 8,
   "id": "1c95a05c",
   "metadata": {},
   "outputs": [
    {
     "data": {
      "text/plain": [
       "array([0.52572457, 0.00235111, 0.01451432, 0.00989565])"
      ]
     },
     "execution_count": 8,
     "metadata": {},
     "output_type": "execute_result"
    }
   ],
   "source": [
    "std_beta = np.sqrt(var_beta1.diagonal())\n",
    "std_beta"
   ]
  },
  {
   "cell_type": "code",
   "execution_count": 9,
   "id": "aa9eaa39",
   "metadata": {},
   "outputs": [
    {
     "data": {
      "text/plain": [
       "(np.float64(5.590169356826529),\n",
       " np.float64(19.465097898627217),\n",
       " np.float64(12.989238395317951),\n",
       " np.float64(-0.10484336931268415))"
      ]
     },
     "execution_count": 9,
     "metadata": {},
     "output_type": "execute_result"
    }
   ],
   "source": [
    "# Estadísticos T\n",
    "t_b0 = lr.intercept_/std_beta[0]\n",
    "t_b1 = lr.coef_[0]/std_beta[1]\n",
    "t_b2 = lr.coef_[1]/std_beta[2]\n",
    "t_b3 = lr.coef_[2]/std_beta[3]\n",
    "t_b0, t_b1, t_b2, t_b3\n"
   ]
  },
  {
   "cell_type": "code",
   "execution_count": 10,
   "id": "af613d87",
   "metadata": {},
   "outputs": [
    {
     "data": {
      "text/plain": [
       "(np.float64(7.450766026373401e-08),\n",
       " np.float64(0.0),\n",
       " np.float64(0.0),\n",
       " np.float64(0.9166062260539112))"
      ]
     },
     "execution_count": 10,
     "metadata": {},
     "output_type": "execute_result"
    }
   ],
   "source": [
    "#p_values\n",
    "p_b0= 2*(1-stats.t.cdf(np.abs(t_b0), df=n-2))\n",
    "p_b1= 2*(1-stats.t.cdf(np.abs(t_b1), df=n-2))\n",
    "p_b2= 2*(1-stats.t.cdf(np.abs(t_b2), df=n-2))\n",
    "p_b3= 2*(1-stats.t.cdf(np.abs(t_b3), df=n-2))\n",
    "p_b0, p_b1, p_b2, p_b3"
   ]
  },
  {
   "cell_type": "markdown",
   "id": "c4d3178e",
   "metadata": {},
   "source": [
    "### Regresión con penalización L2"
   ]
  },
  {
   "cell_type": "code",
   "execution_count": 11,
   "id": "2135f3c1",
   "metadata": {},
   "outputs": [],
   "source": [
    "from sklearn.linear_model import Ridge"
   ]
  },
  {
   "cell_type": "code",
   "execution_count": 12,
   "id": "0057d902",
   "metadata": {},
   "outputs": [
    {
     "name": "stdout",
     "output_type": "stream",
     "text": [
      "Ridge Intercept: 2.938928414315418\n",
      "Ridge Coeficientes: [ 0.04576464  0.18852756 -0.00103689]\n",
      "Ridge R2: 0.8972106381360829\n"
     ]
    }
   ],
   "source": [
    "X = data[['TV', 'radio', 'newspaper']]\n",
    "y = data['sales']\n",
    "\n",
    "ridge = Ridge(alpha=0.5)\n",
    "ridge.fit(X, y)\n",
    "r2_ridge= r2_score(y, ridge.predict(X))\n",
    "print(\"Ridge Intercept:\", ridge.intercept_)\n",
    "print(\"Ridge Coeficientes:\", ridge.coef_)\n",
    "print(\"Ridge R2:\", r2_ridge)"
   ]
  },
  {
   "cell_type": "code",
   "execution_count": 13,
   "id": "daa2bd08",
   "metadata": {},
   "outputs": [
    {
     "data": {
      "text/plain": [
       "np.float64(556.8252631344161)"
      ]
     },
     "execution_count": 13,
     "metadata": {},
     "output_type": "execute_result"
    }
   ],
   "source": [
    "y_mean = np.mean(y)\n",
    "TSS_r = np.sum((y - y_mean) ** 2)\n",
    "RSS_r = (1-r2_ridge) * TSS_r\n",
    "RSS_r"
   ]
  },
  {
   "cell_type": "code",
   "execution_count": 14,
   "id": "4b5b4fa1",
   "metadata": {},
   "outputs": [
    {
     "data": {
      "text/plain": [
       "np.float64(2.8409452200735514)"
      ]
     },
     "execution_count": 14,
     "metadata": {},
     "output_type": "execute_result"
    }
   ],
   "source": [
    "p=4\n",
    "RSE_r= RSS_r/((len(y)-p))\n",
    "RSE_r"
   ]
  },
  {
   "cell_type": "code",
   "execution_count": 15,
   "id": "8d6acefa",
   "metadata": {},
   "outputs": [
    {
     "data": {
      "text/plain": [
       "array([[ 2.76386321e-01, -7.54916809e-04, -3.16904446e-03,\n",
       "        -1.67905897e-03],\n",
       "       [-7.54916809e-04,  5.52773252e-06, -1.27001463e-06,\n",
       "        -9.27838579e-07],\n",
       "       [-3.16904446e-03, -1.27001463e-06,  2.10665607e-04,\n",
       "        -5.05705992e-05],\n",
       "       [-1.67905897e-03, -9.27838579e-07, -5.05705992e-05,\n",
       "         9.79238427e-05]])"
      ]
     },
     "execution_count": 15,
     "metadata": {},
     "output_type": "execute_result"
    }
   ],
   "source": [
    "n=len(y)\n",
    "unos=np.ones([n,1])\n",
    "X=np.hstack([unos, x1,x2,x3])\n",
    "var_beta2 = np.linalg.inv(X.T @ X) *RSE_r**2\n",
    "var_beta2"
   ]
  },
  {
   "cell_type": "code",
   "execution_count": 16,
   "id": "e49f0fb0",
   "metadata": {},
   "outputs": [
    {
     "data": {
      "text/plain": [
       "array([0.52572457, 0.00235111, 0.01451432, 0.00989565])"
      ]
     },
     "execution_count": 16,
     "metadata": {},
     "output_type": "execute_result"
    }
   ],
   "source": [
    "std_beta2 = np.sqrt(var_beta2.diagonal())\n",
    "std_beta2"
   ]
  },
  {
   "cell_type": "code",
   "execution_count": 17,
   "id": "51c3eab8",
   "metadata": {},
   "outputs": [
    {
     "data": {
      "text/plain": [
       "(np.float64(5.590243623149025),\n",
       " np.float64(19.465097508336605),\n",
       " np.float64(12.989068896119102),\n",
       " np.float64(-0.10478278171078419))"
      ]
     },
     "execution_count": 17,
     "metadata": {},
     "output_type": "execute_result"
    }
   ],
   "source": [
    "# Estadísticos T\n",
    "t_b0_ridge = ridge.intercept_/std_beta2[0]\n",
    "t_b1_ridge = ridge.coef_[0]/std_beta2[1]\n",
    "t_b2_ridge = ridge.coef_[1]/std_beta2[2]\n",
    "t_b3_ridge = ridge.coef_[2]/std_beta2[3]\n",
    "t_b0_ridge, t_b1_ridge, t_b2_ridge, t_b3_ridge"
   ]
  },
  {
   "cell_type": "code",
   "execution_count": 18,
   "id": "f3dda14c",
   "metadata": {},
   "outputs": [
    {
     "data": {
      "text/plain": [
       "(np.float64(7.44801489371838e-08),\n",
       " np.float64(0.0),\n",
       " np.float64(0.0),\n",
       " np.float64(0.9166542411676173))"
      ]
     },
     "execution_count": 18,
     "metadata": {},
     "output_type": "execute_result"
    }
   ],
   "source": [
    "p_b0_ridge= 2*(1-stats.t.cdf(np.abs(t_b0_ridge), df=n-2))\n",
    "p_b1_ridge= 2*(1-stats.t.cdf(np.abs(t_b1_ridge), df=n-2))\n",
    "p_b2_ridge= 2*(1-stats.t.cdf(np.abs(t_b2_ridge), df=n-2))\n",
    "p_b3_ridge= 2*(1-stats.t.cdf(np.abs(t_b3_ridge), df=n-2))\n",
    "p_b0_ridge, p_b1_ridge, p_b2_ridge, p_b3_ridge"
   ]
  },
  {
   "cell_type": "markdown",
   "id": "b54d4339",
   "metadata": {},
   "source": [
    "### Regresión con penalización L1"
   ]
  },
  {
   "cell_type": "code",
   "execution_count": 19,
   "id": "08ca59dc",
   "metadata": {},
   "outputs": [],
   "source": [
    "from sklearn.linear_model import Lasso"
   ]
  },
  {
   "cell_type": "code",
   "execution_count": 20,
   "id": "125f9a95",
   "metadata": {},
   "outputs": [
    {
     "name": "stdout",
     "output_type": "stream",
     "text": [
      "Lasso Intercept: 2.980656625064581\n",
      "Lasso Coeficientes: [ 0.          0.04570812  0.18572931 -0.        ]\n",
      "Lasso R2: 0.8971515892246072\n"
     ]
    }
   ],
   "source": [
    "lasso = Lasso(alpha=0.5)\n",
    "lasso.fit(X, y)\n",
    "r2_lasso= r2_score(y, lasso.predict(X))\n",
    "print(\"Lasso Intercept:\", lasso.intercept_)\n",
    "print(\"Lasso Coeficientes:\", lasso.coef_)\n",
    "print(\"Lasso R2:\", r2_lasso)"
   ]
  },
  {
   "cell_type": "code",
   "execution_count": 21,
   "id": "e2b4202c",
   "metadata": {},
   "outputs": [
    {
     "data": {
      "text/plain": [
       "np.float64(557.1451398714054)"
      ]
     },
     "execution_count": 21,
     "metadata": {},
     "output_type": "execute_result"
    }
   ],
   "source": [
    "y_mean = np.mean(y)\n",
    "TSS_l = np.sum((y - y_mean) ** 2)\n",
    "RSS_l = (1-r2_lasso) * TSS_l\n",
    "RSS_l"
   ]
  },
  {
   "cell_type": "code",
   "execution_count": 23,
   "id": "08945a88",
   "metadata": {},
   "outputs": [
    {
     "data": {
      "text/plain": [
       "np.float64(2.842577244241864)"
      ]
     },
     "execution_count": 23,
     "metadata": {},
     "output_type": "execute_result"
    }
   ],
   "source": [
    "p=4\n",
    "RSE_l= RSS_l/((len(y)-p))\n",
    "RSE_l"
   ]
  },
  {
   "cell_type": "code",
   "execution_count": 24,
   "id": "9aa8ed02",
   "metadata": {},
   "outputs": [
    {
     "data": {
      "text/plain": [
       "array([[ 2.76703961e-01, -7.55784405e-04, -3.17268651e-03,\n",
       "        -1.68098864e-03],\n",
       "       [-7.55784405e-04,  5.53408533e-06, -1.27147420e-06,\n",
       "        -9.28904908e-07],\n",
       "       [-3.17268651e-03, -1.27147420e-06,  2.10907716e-04,\n",
       "        -5.06287180e-05],\n",
       "       [-1.68098864e-03, -9.28904908e-07, -5.06287180e-05,\n",
       "         9.80363827e-05]])"
      ]
     },
     "execution_count": 24,
     "metadata": {},
     "output_type": "execute_result"
    }
   ],
   "source": [
    "n=len(y)\n",
    "unos=np.ones([n,1])\n",
    "X=np.hstack([unos, x1,x2,x3])\n",
    "var_beta3 = np.linalg.inv(X.T @ X) *RSE_l**2\n",
    "var_beta3"
   ]
  },
  {
   "cell_type": "code",
   "execution_count": 25,
   "id": "1e14cca9",
   "metadata": {},
   "outputs": [
    {
     "data": {
      "text/plain": [
       "array([0.52602658, 0.00235246, 0.01452266, 0.00990133])"
      ]
     },
     "execution_count": 25,
     "metadata": {},
     "output_type": "execute_result"
    }
   ],
   "source": [
    "std_beta3 = np.sqrt(var_beta3.diagonal())\n",
    "std_beta3"
   ]
  },
  {
   "cell_type": "code",
   "execution_count": 26,
   "id": "5b7cce0d",
   "metadata": {},
   "outputs": [
    {
     "data": {
      "text/plain": [
       "(np.float64(5.666361257270862),\n",
       " np.float64(0.0),\n",
       " np.float64(3.14736532300291),\n",
       " np.float64(18.758011808873682))"
      ]
     },
     "execution_count": 26,
     "metadata": {},
     "output_type": "execute_result"
    }
   ],
   "source": [
    "# Estadísticos T\n",
    "t_b0_lasso = lasso.intercept_/std_beta3[0]\n",
    "t_b1_lasso = lasso.coef_[0]/std_beta3[1]\n",
    "t_b2_lasso = lasso.coef_[1]/std_beta3[2]\n",
    "t_b3_lasso = lasso.coef_[2]/std_beta3[3]\n",
    "t_b0_lasso, t_b1_lasso, t_b2_lasso, t_b3_lasso"
   ]
  },
  {
   "cell_type": "code",
   "execution_count": 78,
   "id": "8b03cd09",
   "metadata": {},
   "outputs": [
    {
     "data": {
      "text/plain": [
       "(np.float64(5.092165777931257e-08),\n",
       " np.float64(1.0),\n",
       " np.float64(0.001901987113733572),\n",
       " np.float64(0.0))"
      ]
     },
     "execution_count": 78,
     "metadata": {},
     "output_type": "execute_result"
    }
   ],
   "source": [
    "#p_values\n",
    "p_b0_lasso= 2*(1-stats.t.cdf(np.abs(t_b0_lasso), df=n-2))\n",
    "p_b1_lasso= 2*(1-stats.t.cdf(np.abs(t_b1_lasso), df=n-2))\n",
    "p_b2_lasso= 2*(1-stats.t.cdf(np.abs(t_b2_lasso), df=n-2))\n",
    "p_b3_lasso= 2*(1-stats.t.cdf(np.abs(t_b3_lasso), df=n-2))\n",
    "p_b0_lasso, p_b1_lasso, p_b2_lasso, p_b3_lasso"
   ]
  },
  {
   "cell_type": "markdown",
   "id": "21dae28b",
   "metadata": {},
   "source": [
    "Observaciones de lo que pasa con alpha. \n",
    "Para los nuevos tipos de regresión, Ridge y lasso, si el alpha es más grande, los coeficientes, los hace más pequeños y puede reducir el R². Por el otro lado, si alpha es más pequeño, se penaliza menos, por lo que los coeficientes se parecen más a la regresión sin penalización y R2 aumenta. "
   ]
  },
  {
   "cell_type": "markdown",
   "id": "6ad618e2",
   "metadata": {},
   "source": [
    "Los tres modelos muestran un desempeño muy similar en términos de R², con valores cercanos a 0.897, lo que indica que explican aproximadamente el 89.7% de la variabilidad de la variable dependiente. Sin embargo, se observan diferencias sustanciales en la estimación de los coeficientes y la selección de variables. Tanto el modelo sin penalización como Ridge con alpha=0.5 produjeron coeficientes prácticamente idénticos, confirmando que la tv y radio son las que son más significativas para el modelo. El modelo Lasso, por su parte, demostró su capacidad de selección automática de variables al reducir exactamente a cero los coeficientes de TV y newspaper, manteniendo solo radio como predictor relevante. Esto hace que la penalización de Lasso sea la opción más eficiente para este conjunto de datos, ya que logra las mismas conclusiones (que el periódico es irrelvante dado que la información ya estaba en las otras variables) con menos complicación, eliminando el ruido y quedándose solo con lo que realmente importa. "
   ]
  },
  {
   "cell_type": "markdown",
   "id": "20da861a",
   "metadata": {},
   "source": []
  }
 ],
 "metadata": {
  "kernelspec": {
   "display_name": ".venv (3.12.1)",
   "language": "python",
   "name": "python3"
  },
  "language_info": {
   "codemirror_mode": {
    "name": "ipython",
    "version": 3
   },
   "file_extension": ".py",
   "mimetype": "text/x-python",
   "name": "python",
   "nbconvert_exporter": "python",
   "pygments_lexer": "ipython3",
   "version": "3.12.1"
  }
 },
 "nbformat": 4,
 "nbformat_minor": 5
}
