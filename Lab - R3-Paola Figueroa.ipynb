{
 "cells": [
  {
   "cell_type": "markdown",
   "id": "de16ac05-1760-49ad-b40c-327a96a8e846",
   "metadata": {},
   "source": [
    "# Laboratorio de regresión - 3"
   ]
  },
  {
   "cell_type": "markdown",
   "id": "1db0fb70-ca43-47f7-bbfd-fd06ca0e25f2",
   "metadata": {},
   "source": [
    "## Significancia de factores"
   ]
  },
  {
   "cell_type": "markdown",
   "id": "6043c593-39d1-405c-b92e-487314170cf6",
   "metadata": {},
   "source": [
    "|                |   |\r\n",
    ":----------------|---|\r\n",
    "| **Nombre**      Paola Andrea Figueroa Álvarez|   |\r\n",
    "| **Fecha**      |25/08/2025    |\r\n",
    "| **Expediente**  751310 |   |"
   ]
  },
  {
   "cell_type": "markdown",
   "id": "2cfabde4-866e-4f00-8a37-9d57f2bebbb6",
   "metadata": {},
   "source": [
    "Descarga el archivo de publicidad y carga los datos (Advertising.csv)."
   ]
  },
  {
   "cell_type": "code",
   "execution_count": 1,
   "id": "b0a7cb2c-7b53-477a-b53a-26c39904c43e",
   "metadata": {},
   "outputs": [],
   "source": [
    "import pandas as pd\n",
    "from sklearn.linear_model import LinearRegression\n",
    "import numpy as np\n",
    "import matplotlib.pyplot as plt\n",
    "from sklearn.metrics import r2_score"
   ]
  },
  {
   "cell_type": "code",
   "execution_count": 3,
   "id": "07527ab6-7c18-48b5-9779-d5e6e5da289b",
   "metadata": {},
   "outputs": [
    {
     "data": {
      "text/html": [
       "<div>\n",
       "<style scoped>\n",
       "    .dataframe tbody tr th:only-of-type {\n",
       "        vertical-align: middle;\n",
       "    }\n",
       "\n",
       "    .dataframe tbody tr th {\n",
       "        vertical-align: top;\n",
       "    }\n",
       "\n",
       "    .dataframe thead th {\n",
       "        text-align: right;\n",
       "    }\n",
       "</style>\n",
       "<table border=\"1\" class=\"dataframe\">\n",
       "  <thead>\n",
       "    <tr style=\"text-align: right;\">\n",
       "      <th></th>\n",
       "      <th>Unnamed: 0</th>\n",
       "      <th>TV</th>\n",
       "      <th>radio</th>\n",
       "      <th>newspaper</th>\n",
       "      <th>sales</th>\n",
       "    </tr>\n",
       "  </thead>\n",
       "  <tbody>\n",
       "    <tr>\n",
       "      <th>0</th>\n",
       "      <td>1</td>\n",
       "      <td>230.1</td>\n",
       "      <td>37.8</td>\n",
       "      <td>69.2</td>\n",
       "      <td>22.1</td>\n",
       "    </tr>\n",
       "    <tr>\n",
       "      <th>1</th>\n",
       "      <td>2</td>\n",
       "      <td>44.5</td>\n",
       "      <td>39.3</td>\n",
       "      <td>45.1</td>\n",
       "      <td>10.4</td>\n",
       "    </tr>\n",
       "    <tr>\n",
       "      <th>2</th>\n",
       "      <td>3</td>\n",
       "      <td>17.2</td>\n",
       "      <td>45.9</td>\n",
       "      <td>69.3</td>\n",
       "      <td>9.3</td>\n",
       "    </tr>\n",
       "    <tr>\n",
       "      <th>3</th>\n",
       "      <td>4</td>\n",
       "      <td>151.5</td>\n",
       "      <td>41.3</td>\n",
       "      <td>58.5</td>\n",
       "      <td>18.5</td>\n",
       "    </tr>\n",
       "    <tr>\n",
       "      <th>4</th>\n",
       "      <td>5</td>\n",
       "      <td>180.8</td>\n",
       "      <td>10.8</td>\n",
       "      <td>58.4</td>\n",
       "      <td>12.9</td>\n",
       "    </tr>\n",
       "  </tbody>\n",
       "</table>\n",
       "</div>"
      ],
      "text/plain": [
       "   Unnamed: 0     TV  radio  newspaper  sales\n",
       "0           1  230.1   37.8       69.2   22.1\n",
       "1           2   44.5   39.3       45.1   10.4\n",
       "2           3   17.2   45.9       69.3    9.3\n",
       "3           4  151.5   41.3       58.5   18.5\n",
       "4           5  180.8   10.8       58.4   12.9"
      ]
     },
     "execution_count": 3,
     "metadata": {},
     "output_type": "execute_result"
    }
   ],
   "source": [
    "import pandas as pd\n",
    "data=pd.read_csv(\"Advertising.csv\")\n",
    "data.head()"
   ]
  },
  {
   "cell_type": "markdown",
   "id": "f81535ac-87ca-490e-89e7-0564c31f73f0",
   "metadata": {},
   "source": [
    "**¿Hay alguna relación entre el presupuesto para publicidad y las ventas?**\n",
    "\n",
    "Nuestra primera meta debe ser determinar si hay evidencia en los datos de que haya una asociación entre estas variables.\n",
    "\n",
    "- ¿Por qué? ¿Qué resultaría si nos diéramos cuenta de la falta de relación entre el presupuesto de publicidad y las ventas?"
   ]
  },
  {
   "cell_type": "markdown",
   "id": "e5ed6dff-daa6-4680-ae46-1892fbe61743",
   "metadata": {},
   "source": [
    "Al analizar la relación entre el presupuesto en publicidad y las ventas podemos identificar si el gasto en marketing realmente contribuye al crecimiento de ingresos, permitiéndonos justificar si es una buena manera de distinar o no los recursos. Si no hubiera relación, significaría que aumentar el gasto en publicidad no impacta directamente en las ventas, lo que básicamente significa que una variable no depende de la otra."
   ]
  },
  {
   "cell_type": "markdown",
   "id": "3ff47351-fa8b-4c19-93ce-d68dce869913",
   "metadata": {},
   "source": [
    "**¿Qué tan fuerte es esta relación?**\n",
    "Asumiendo que existe esta relación, ¿nos sirve conocer el impacto que tiene invertir en publicidad en las ventas?"
   ]
  },
  {
   "cell_type": "markdown",
   "id": "f4f729ab-b3c5-45f2-be4d-679b009f3d98",
   "metadata": {},
   "source": [
    "La fuerza de la relación indica qué tan dependientes son las ventas del presupuesto en publicidad. En este caso tenemos una fuerte correlación, lo cual indica que si hay pequeñas variaciones en la publicidad, habrán grandes impactos en las ventas."
   ]
  },
  {
   "cell_type": "markdown",
   "id": "4cd03e68-778f-49cc-9161-a2fff241af56",
   "metadata": {},
   "source": [
    "**¿Cuáles medios están asociados con las ventas? ¿Qué tan grande es la asociación entre un medio específico y las ventas?**\n",
    "\n",
    "Hay 3 medios distintos en los datos. ¿Sirve invertir en los 3? ¿Conviene más invertir sólo en uno?\n",
    "\n",
    "**¿Qué tan seguros estamos de que podríamos predecir ventas futuras?**\n",
    "\n",
    "**¿La relación es lineal?**\n",
    "\n",
    "**¿Hay sinergia entre estos medios?**\n",
    "\n",
    "Puede ser que gastar \\\\$50,000 en publicidad y otros \\\\$50,000 en radio es mejor opción que gastar \\\\$100,000 en televisión. A esto le llamamos efecto de interacción.\n",
    "\n",
    "Podemos usar regresión lineal para responder todas estas preguntas."
   ]
  },
  {
   "cell_type": "markdown",
   "id": "cb3f1c79-027e-4af9-b61b-82e4a45df0bb",
   "metadata": {},
   "source": [
    "Realiza una regresión lineal:\n",
    "\n",
    "$$ \\text{ventas} \\approx \\beta_0 + (\\beta_1)(\\text{TV})$$"
   ]
  },
  {
   "cell_type": "code",
   "execution_count": 7,
   "id": "c9d42f17-e957-4169-a9b6-d73c31d4c5f1",
   "metadata": {},
   "outputs": [],
   "source": [
    "x1=data.TV.values.reshape([-1,1])\n",
    "x2=data.radio.values.reshape([-1,1])\n",
    "x3=data.newspaper.values.reshape([-1,1])\n",
    "y=data.sales"
   ]
  },
  {
   "cell_type": "code",
   "execution_count": 9,
   "id": "9e328835-818f-4fcc-8d59-59f779522b67",
   "metadata": {},
   "outputs": [
    {
     "data": {
      "text/plain": [
       "(7.0325935491276885, array([0.04753664]))"
      ]
     },
     "execution_count": 9,
     "metadata": {},
     "output_type": "execute_result"
    }
   ],
   "source": [
    "# B1 de Tele\n",
    "lr=LinearRegression()\n",
    "lr.fit(x1,y)\n",
    "lr.intercept_, lr.coef_\n",
    "B0_tv= lr.intercept_\n",
    "Beta1_tv=lr.coef_\n",
    "B0_tv, Beta1_tv"
   ]
  },
  {
   "cell_type": "markdown",
   "id": "a84ba655-7b09-482a-992f-02380dd54209",
   "metadata": {},
   "source": [
    "### Verificando la precisión de nuestros coeficientes estimados"
   ]
  },
  {
   "cell_type": "markdown",
   "id": "30733e87-7be2-477f-84c2-d430ad1a2a5d",
   "metadata": {},
   "source": [
    "Recuerda que en el mundo real hay ruidos y errores de medición. Siempre se asume que la verdadera relación entre $X$ y $Y$ es $$Y = \\beta_0 + \\beta_1 X + \\epsilon$$"
   ]
  },
  {
   "cell_type": "markdown",
   "id": "af33c415-790e-4e28-bcd5-8f94ac545822",
   "metadata": {},
   "source": [
    "Se asume que el término de error es independiente de $X$ (el error siempre es el mismo sin importar el valor de $X$). Este modelo describe a la *línea de regresión de la población*, que es la mejor aproximación de la verdadera relación entre $X$ y $Y$. Cuando usamos mínimos cuadrados encontramos la *línea de mínimos cuadrados*."
   ]
  },
  {
   "cell_type": "markdown",
   "id": "86d80b2d-2c96-4fa7-8348-29e8215e4e2e",
   "metadata": {},
   "source": [
    "¿Cuál es la diferencia entre población y muestra?"
   ]
  },
  {
   "cell_type": "markdown",
   "id": "ec345b97-255d-45a2-95ea-487212a02644",
   "metadata": {},
   "source": [
    "La población involucra a todos los individuos o factores sobre los cuales se va a investigar, mientras que la muestra es una parte de la población, cuyo uso normalmente es para hacer inferencias respecto a que tan representativo o no es la muestra en base a la población. "
   ]
  },
  {
   "cell_type": "markdown",
   "id": "ea74ba36-845f-44fe-89e4-442b66f44d9d",
   "metadata": {},
   "source": [
    "¿Cuál crees que sea la diferencia entre hacer una regresión con todos los datos de la población y una muestra de ella?"
   ]
  },
  {
   "cell_type": "markdown",
   "id": "1563051a-01a3-4a4e-bff2-f12c7d113b15",
   "metadata": {},
   "source": [
    "Con toda la población, los coeficientes obtenidos son los valores verdaderos, mientras que con una muestra, los coeficientes son estimaciones sujetas a un error, pues no estamos usando a todos los  individuos, por lo que los resultados podrían ser meras aproximaciones. Es por esto que al hacer inferencias se usan intervalos de confianza y pruebas de hipótesis. "
   ]
  },
  {
   "cell_type": "markdown",
   "id": "c123335b-5299-4f2e-ac8e-4b1e40754221",
   "metadata": {},
   "source": [
    "La línea de regresión de la población no se puede observar. El concepto de comparar estas líneas es una extensión natural del acercamiento estadístico estándar de usar información de una muestra para estimar características de una población grande."
   ]
  },
  {
   "cell_type": "markdown",
   "id": "5b0d26b9-18de-4467-a836-3f75b228a363",
   "metadata": {},
   "source": [
    "Imagina que quieres encontrar la altura promedio de un mexicano $\\mu$. Medir a todos y cada uno de los mexicanos en situaciones similares, con la misma regla, mismo operador, y otras incontables formas de minimizar la variación de la medida es una tarea imposible. Lo que podemos asumir es que $\\hat{\\mu} = \\bar{y}$. La media poblacional y la media muestral son diferentes, pero la media muestral es usualmente un buen estimado.\n",
    "\n",
    "De la misma manera, como no contamos con el 100% de la información para hacer una regresión, los coeficientes $\\beta_0$ y $\\beta_1$ son desconocidos. Podemos estimarlos usando mínimos cuadrados, encontrando $\\hat{\\beta_0}$ y $\\hat{\\beta_1}$. Puede que las muestras que tengamos en ese momento estén un poco por encima de la media, pero otras muestras en otro momento puede que estén debajo de la media. En general, esperamos que el promedio de las aproximaciones $\\hat{\\mu}$ aproxime a $\\mu$."
   ]
  },
  {
   "cell_type": "markdown",
   "id": "7fff6312-57a0-4c9f-aaa9-f22f6294c71c",
   "metadata": {},
   "source": [
    "Esto lleva a la pregunta: ¿qué tan cercanos son nuestros coeficientes estimados a los verdaderos coeficientes? Utilizamos el concepto de error estándar para evaluar esto.\n",
    "\n",
    "$$ \\text{Var}(\\hat{\\mu})=\\text{SE}(\\hat{\\mu})^2 = \\frac{\\sigma^2}{n} $$\n",
    "\n",
    "Donde $\\sigma$ es la desviación estándar de cada una de las observaciones $y_i$ de $Y$. El error estándar nos dice la cantidad promedio que el estimado difiere del valor verdadero. Podemos ver en la fórmula que entre más observaciones tengamos el error se hace más pequeño. Las fórmulas para errores estándar de $\\hat{\\beta_0}$ y $\\hat{\\beta_1}$ son:\n",
    "\n",
    "$$ \\text{SE}(\\hat{\\beta_0})^2 = \\sigma^2 [\\frac{1}{n} + \\frac{\\bar{x}^2}{\\sum_{i=1}^n (x_i - \\bar{x})^2}]$$\n",
    "\n",
    "$$ \\text{SE}(\\hat{\\beta_1})^2 = \\frac{\\sigma^2}{\\sum_{i=1}^n (x_i - \\bar{x})^2}$$\n",
    "\n",
    "$$ \\sigma^2 = \\text{Var}(\\epsilon) = \\text{RSE}^2 = \\frac{\\text{RSS}}{n-p}$$"
   ]
  },
  {
   "cell_type": "markdown",
   "id": "661b6d7c-2274-462f-92ff-0e7be8ca742d",
   "metadata": {},
   "source": [
    "Para que estas fórmulas sean validas asumimos que los errores $\\epsilon_i$ tienen varianza común $\\sigma^2$ y que no están correlacionados.\n",
    "\n",
    "Calcula los errores estándar de los coeficientes"
   ]
  },
  {
   "cell_type": "code",
   "execution_count": 12,
   "id": "d07d6bd4-6fe3-4c19-852d-0f27e72c94f2",
   "metadata": {},
   "outputs": [
    {
     "data": {
      "text/plain": [
       "2102.5305831313512"
      ]
     },
     "execution_count": 12,
     "metadata": {},
     "output_type": "execute_result"
    }
   ],
   "source": [
    "n=len(y)\n",
    "p=2\n",
    "x1_mean = np.mean(x1)\n",
    "y_mean = np.mean(y)\n",
    "RSS=sum((lr.predict(x1)-y)**2)\n",
    "RSS"
   ]
  },
  {
   "cell_type": "code",
   "execution_count": 14,
   "id": "07843e5d-fa42-4266-9dda-7701a5700f07",
   "metadata": {},
   "outputs": [
    {
     "data": {
      "text/plain": [
       "10.618841328946218"
      ]
     },
     "execution_count": 14,
     "metadata": {},
     "output_type": "execute_result"
    }
   ],
   "source": [
    "sigma2= RSS/(n-p)\n",
    "sigma2"
   ]
  },
  {
   "cell_type": "code",
   "execution_count": 16,
   "id": "c0f7beeb-3e18-419f-b0f1-29b47569ca11",
   "metadata": {},
   "outputs": [
    {
     "data": {
      "text/plain": [
       "array([0.00269061])"
      ]
     },
     "execution_count": 16,
     "metadata": {},
     "output_type": "execute_result"
    }
   ],
   "source": [
    "SE_B11= sigma2/sum((x1-x1_mean)**2)\n",
    "SE_B1=np.sqrt(SE_B11)\n",
    "SE_B1"
   ]
  },
  {
   "cell_type": "code",
   "execution_count": 18,
   "id": "b3a49811-31de-4ffb-bb1b-fab271b55b56",
   "metadata": {},
   "outputs": [
    {
     "data": {
      "text/plain": [
       "array([0.45784294])"
      ]
     },
     "execution_count": 18,
     "metadata": {},
     "output_type": "execute_result"
    }
   ],
   "source": [
    "SE_B0=sigma2*(1/n + ((x1_mean**2)/sum((x1-x1_mean)**2)))\n",
    "SE_B0=np.sqrt(SE_B0)\n",
    "SE_B0"
   ]
  },
  {
   "cell_type": "markdown",
   "id": "9c2711ec-2380-4bce-ac68-007378e7b76c",
   "metadata": {},
   "source": [
    "Estos errores se pueden usar para calcular intervalos de confianza. Un intervalo de confianza del $95\\%$ se define como un rango de valores en el cuál se encuentra el desconocido valor verdadero con un $95\\%$ de probabilidad.\n",
    "\n",
    "Otra forma de verlo es que si tomamos muestras repetidas y construimos un intervalo de confianza para cada una, el $95\\%$ de los intervalos creados van a contener el valor verdadero. Para la regresión el intervalo de confianza del $95\\%$ toma la forma:\n",
    "\n",
    "$$ \\hat{\\beta_j} \\pm 2\\text{SE}(\\hat{\\beta_j})$$"
   ]
  },
  {
   "cell_type": "markdown",
   "id": "a71aed31-b058-4217-8d45-9686b9611511",
   "metadata": {},
   "source": [
    "Calcula los intervalos de confianza para los coeficientes estimados:"
   ]
  },
  {
   "cell_type": "code",
   "execution_count": 20,
   "id": "8b725487-4e48-471d-9c5a-547e7e176334",
   "metadata": {},
   "outputs": [
    {
     "data": {
      "text/plain": [
       "(array([7.94827943]), array([6.11690767]))"
      ]
     },
     "execution_count": 20,
     "metadata": {},
     "output_type": "execute_result"
    }
   ],
   "source": [
    "IntervaloB0_up= B0_tv+2*SE_B0\n",
    "IntervaloB0_low= B0_tv-2*SE_B0\n",
    "IntervaloB0_up, IntervaloB0_low"
   ]
  },
  {
   "cell_type": "code",
   "execution_count": 26,
   "id": "b8173bfb-0766-4888-8c4b-2367cafde0c9",
   "metadata": {},
   "outputs": [
    {
     "data": {
      "text/plain": [
       "(array([0.05291785]), array([0.04215543]))"
      ]
     },
     "execution_count": 26,
     "metadata": {},
     "output_type": "execute_result"
    }
   ],
   "source": [
    "IntervaloB1_up= Beta1_tv+2*SE_B1\n",
    "IntervaloB1_low= Beta1_tv-2*SE_B1\n",
    "IntervaloB1_up, IntervaloB1_low"
   ]
  },
  {
   "cell_type": "markdown",
   "id": "da3b3100-fb87-42de-9e74-75c72464bb7b",
   "metadata": {},
   "source": [
    "Los errores estándar también se usan para realizar pruebas de hipótesis. La prueba de hipótesis más común es probar la hipótesis nula de:\n",
    "\n",
    "$$ H_0: \\text{No hay relación entre } X \\text{ y } Y \\ \\ \\ \\ (\\beta_1=0)$$"
   ]
  },
  {
   "cell_type": "markdown",
   "id": "a1ef288e-55fe-45fb-bb86-4bef282b5947",
   "metadata": {},
   "source": [
    "contra la hipótesis alternativa:\n",
    "$$ H_0: \\text{Hay alguna relación entre } X \\text{ y } Y \\ \\ \\ (\\beta_1 \\neq 0)$$"
   ]
  },
  {
   "cell_type": "markdown",
   "id": "eaf0c27a-4a67-450c-b2ce-a65958938c25",
   "metadata": {},
   "source": [
    "Explica con tus palabras el significado de la hipótesis nula y la hipótesis alternativa."
   ]
  },
  {
   "cell_type": "markdown",
   "id": "41f7cb88-88a5-462f-84ec-6019911ebb64",
   "metadata": {},
   "source": [
    "La hipótesis nula es una afirmación que se toma como verdadera hasta que estadísticamente se pruebe lo contrario. La hipótesis alternativa es lo contrario de la nula: representa lo que queremos demostrar, ya sea que hay una relación, diferencia o efecto. "
   ]
  },
  {
   "cell_type": "markdown",
   "id": "cc6404ea-89ae-45f0-9935-67dbd53b78c6",
   "metadata": {},
   "source": [
    "Para probar la hipótesis nula debemos determinar si nuestro estimado $\\hat{\\beta_1}$ de $\\beta_1$ está lo suficientemente alejado de cero para que podamos decir con confianza que este valor no es cero. \n",
    "\n",
    "¿Qué tan lejos? Depende de qué tanta confianza tengamos en el estimado encontrado. Si nuestro error estándar es pequeño y nuestro estimado está alejado de cero podríamos decir que hay muy poca probabilidad de que el valor verdadero sea 0. En cambio, si nuestro error estándar es grande y nuestro estimado está muy cerca de cero, entonces podrías ser que el valor verdadero sea cero y que no haya relación entre las variables."
   ]
  },
  {
   "cell_type": "markdown",
   "id": "96161b14-6a16-41ea-aec8-0394f729447d",
   "metadata": {},
   "source": [
    "Se calcula un *estadístico t* dado por\n",
    "$$ t = \\frac{\\hat{\\beta_j} - \\mu}{\\text{SE}(\\hat{\\beta_j})} $$"
   ]
  },
  {
   "cell_type": "markdown",
   "id": "4f04296d-854b-4fcb-9c79-6b23b516f2f3",
   "metadata": {},
   "source": [
    "donde $\\mu$ es el valor contra el que queremos probar.\n",
    "\n",
    "Calcula el estadístico t para tus coeficientes estimados, usando como referencia la prueba de hipótesis."
   ]
  },
  {
   "cell_type": "markdown",
   "id": "bc929e8c-68b5-4eea-9a63-ab6f90540985",
   "metadata": {},
   "source": [
    "#### Hipótesis nula y alternativa \n",
    "En este caso miu es 0 porque la hipotesis es que sea igual o diferente de 0\n",
    "#### Ho= B0= 0\n",
    "#### Hi= B0 ≠ 0"
   ]
  },
  {
   "cell_type": "code",
   "execution_count": 28,
   "id": "68f15e0c-6c64-4ff5-a03c-8d72b639db7f",
   "metadata": {},
   "outputs": [
    {
     "data": {
      "text/plain": [
       "array([15.36027517])"
      ]
     },
     "execution_count": 28,
     "metadata": {},
     "output_type": "execute_result"
    }
   ],
   "source": [
    "t0= B0_tv/SE_B0\n",
    "t0"
   ]
  },
  {
   "cell_type": "code",
   "execution_count": 30,
   "id": "3b101c1c-0570-4b3b-bb87-eb7b53e6ec51",
   "metadata": {},
   "outputs": [
    {
     "data": {
      "text/plain": [
       "array([17.6676256])"
      ]
     },
     "execution_count": 30,
     "metadata": {},
     "output_type": "execute_result"
    }
   ],
   "source": [
    "t1= Beta1_tv/SE_B1\n",
    "t1"
   ]
  },
  {
   "cell_type": "markdown",
   "id": "7737b123-f4c5-403c-92f2-4800c79107d9",
   "metadata": {},
   "source": [
    "La distribución t tiene forma de campana y se parece bastante a la distribución normal cuando $n > 30$. Ya sólo es cuestión de calcular la probabilidad de observar cualquier número tal que su valor absoluto sea igual o mayor que el valor absoluto del estadístico t calculado. En otras palabras:\n",
    "$$ P(|x| \\geq |t|) $$"
   ]
  },
  {
   "cell_type": "markdown",
   "id": "6bb2ccf1-b4b1-4c0c-a15b-d4fdd2f4552a",
   "metadata": {},
   "source": [
    "A esta probabilidad la llamamos *p-value*. Un *p-value* pequeño indica que es poco probable que exista por puro azar una relación significativa entre predictor y respuesta, en caso de que no haya una asociación real entre predictor y respuesta. En otras palabras, el *p-value* te dice la probabilidad de que parezca que hay relación cuando no la hay.\n",
    "\n",
    "Si el *p-value* es pequeño, inferimos que sí hay una asociación entre el predictor y la respuesta, y **rechazamos la hipótesis nula**.\n",
    "  "
   ]
  },
  {
   "cell_type": "markdown",
   "id": "c7f17065-a71d-4322-8782-3e805df65d29",
   "metadata": {},
   "source": [
    "¿Qué tan pequeño? Depende de la aplicación. Un valor muy común es del $5\\%$.\n",
    "\n",
    "Utiliza el siguiente código para calcular el *p-value* para tus coeficientes\n",
    "\n",
    "`from scipy import stats`\n",
    "\n",
    "`p_bj = 2*(1 - stats.t.cdf(np.abs(t_bj), n-p))`"
   ]
  },
  {
   "cell_type": "code",
   "execution_count": 32,
   "id": "7a542d04-f9cb-4ea2-9af1-ca79d1539860",
   "metadata": {},
   "outputs": [],
   "source": [
    "from scipy import stats"
   ]
  },
  {
   "cell_type": "code",
   "execution_count": 34,
   "id": "18100af3-810f-4bce-8e9c-85e3aeda8b53",
   "metadata": {},
   "outputs": [
    {
     "data": {
      "text/plain": [
       "array([0.])"
      ]
     },
     "execution_count": 34,
     "metadata": {},
     "output_type": "execute_result"
    }
   ],
   "source": [
    "p_b1 = 2*(1 - stats.t.cdf(np.abs(t1), df=n-2))\n",
    "p_b1"
   ]
  },
  {
   "cell_type": "code",
   "execution_count": 36,
   "id": "3f85649a-4e68-4902-bc28-90722b192c9f",
   "metadata": {},
   "outputs": [
    {
     "data": {
      "text/plain": [
       "array([0.])"
      ]
     },
     "execution_count": 36,
     "metadata": {},
     "output_type": "execute_result"
    }
   ],
   "source": [
    "p_b0 = 2*(1 - stats.t.cdf(np.abs(t0), df=n-2))\n",
    "p_b0"
   ]
  },
  {
   "cell_type": "markdown",
   "id": "2be9ad17-db40-405e-b88a-d0af8a05aacf",
   "metadata": {},
   "source": [
    "¿Se rechaza la hipótesis nula? ¿Qué significa?"
   ]
  },
  {
   "cell_type": "markdown",
   "id": "261f861e-f191-47f8-9510-7444ab416756",
   "metadata": {},
   "source": [
    "Para el caso de las televisiones, podemos decir que el coeficiente de radio es positivo y estadísticamente significativo, con un intervalo de confianza que no incluye al cero, un estadístico t elevado y un p-value menor a 0.05. Esto nos dice que sí se rechaza la hipótesis nula, pues la que calculamos es muy acercada a la real. En este caso podemos decir que hay suficiente evidencia estadística para decir que el coeficiente es distinto de cero y, por tanto, la variable sí influye en las ventas."
   ]
  },
  {
   "cell_type": "markdown",
   "id": "3a994d1a-6187-491c-a518-7971cebe3c0a",
   "metadata": {},
   "source": [
    "Realiza otras dos regresiones. Ya tienes hecha la regresión de ventas dado el gasto en publicidad de TV. Realiza la regresión para gastos en radio y gastos en periódico. Organiza las respuestas para que debajo de esta celda se tenga:\n",
    "- Título de regresión\n",
    "- Coeficientes estimados\n",
    "- Errores estándar de los coeficientes\n",
    "- Intervalos de confianza\n",
    "- Estadísticos t\n",
    "- p-values\n",
    "- Observaciones"
   ]
  },
  {
   "cell_type": "markdown",
   "id": "22b1d1ea-2363-48ae-8db6-366a982da150",
   "metadata": {},
   "source": [
    "## Regresión de ventas de radio"
   ]
  },
  {
   "cell_type": "markdown",
   "id": "14a78f9b-452a-4856-bd81-8b09df0d44d2",
   "metadata": {},
   "source": [
    "### Coeficientes"
   ]
  },
  {
   "cell_type": "code",
   "execution_count": 38,
   "id": "257cf462-3271-4a38-9dc9-807b8dd76ad6",
   "metadata": {},
   "outputs": [
    {
     "data": {
      "text/plain": [
       "(9.311638095158285, array([0.20249578]))"
      ]
     },
     "execution_count": 38,
     "metadata": {},
     "output_type": "execute_result"
    }
   ],
   "source": [
    "lr2=LinearRegression()\n",
    "lr2.fit(x2,y)\n",
    "lr2.intercept_, lr2.coef_\n",
    "B0_radio= lr2.intercept_ \n",
    "Beta1_radio=lr2.coef_\n",
    "B0_radio, Beta1_radio"
   ]
  },
  {
   "cell_type": "markdown",
   "id": "b66b8a68-9e69-40fa-977e-ca8b243c7c28",
   "metadata": {},
   "source": [
    "### Errores estándar de los coeficientes"
   ]
  },
  {
   "cell_type": "code",
   "execution_count": 40,
   "id": "91bb70c1-7759-4dbc-9444-8ec9a1c47b94",
   "metadata": {},
   "outputs": [
    {
     "data": {
      "text/plain": [
       "3618.4795490250876"
      ]
     },
     "execution_count": 40,
     "metadata": {},
     "output_type": "execute_result"
    }
   ],
   "source": [
    "n=len(y)\n",
    "p=2\n",
    "x2_mean = np.mean(x2)\n",
    "y_mean = np.mean(y)\n",
    "RSS2=sum((lr2.predict(x2)-y)**2)\n",
    "RSS2"
   ]
  },
  {
   "cell_type": "code",
   "execution_count": 42,
   "id": "0c2dbba2-99b2-4e4e-8d60-078cffbd89fd",
   "metadata": {},
   "outputs": [
    {
     "data": {
      "text/plain": [
       "18.275149237500443"
      ]
     },
     "execution_count": 42,
     "metadata": {},
     "output_type": "execute_result"
    }
   ],
   "source": [
    "sigma2_2= RSS2/(n-p)\n",
    "sigma2_2"
   ]
  },
  {
   "cell_type": "code",
   "execution_count": 44,
   "id": "9540550b-e7f3-4199-b083-b2dec4115dbf",
   "metadata": {},
   "outputs": [
    {
     "data": {
      "text/plain": [
       "array([0.02041131])"
      ]
     },
     "execution_count": 44,
     "metadata": {},
     "output_type": "execute_result"
    }
   ],
   "source": [
    "SE_B12= sigma2_2/sum((x2-x2_mean)**2)\n",
    "SE_B1_2=np.sqrt(SE_B12)\n",
    "SE_B1_2"
   ]
  },
  {
   "cell_type": "code",
   "execution_count": 46,
   "id": "b068becb-ac0b-4cf7-b243-b3bb35f97812",
   "metadata": {},
   "outputs": [
    {
     "data": {
      "text/plain": [
       "array([0.5629005])"
      ]
     },
     "execution_count": 46,
     "metadata": {},
     "output_type": "execute_result"
    }
   ],
   "source": [
    "SE_B0_2=sigma2_2*(1/n + ((x2_mean**2)/sum((x2-x2_mean)**2)))\n",
    "SE_B0_2=np.sqrt(SE_B0_2)\n",
    "SE_B0_2"
   ]
  },
  {
   "cell_type": "markdown",
   "id": "09e07eca-0939-4988-ac40-93bac62539a2",
   "metadata": {},
   "source": [
    "### Intervalos de confianza"
   ]
  },
  {
   "cell_type": "code",
   "execution_count": 48,
   "id": "424f6956-edd3-476a-b700-67fc9a00283a",
   "metadata": {},
   "outputs": [
    {
     "data": {
      "text/plain": [
       "(array([10.43743909]),\n",
       " array([8.1858371]),\n",
       " array([0.2433184]),\n",
       " array([0.16167317]))"
      ]
     },
     "execution_count": 48,
     "metadata": {},
     "output_type": "execute_result"
    }
   ],
   "source": [
    "IntervaloB0_up_radio= B0_radio+2*SE_B0_2\n",
    "IntervaloB0_low_radio= B0_radio-2*SE_B0_2\n",
    "IntervaloB1_up_radio= Beta1_radio+2*SE_B1_2\n",
    "IntervaloB1_low_radio= Beta1_radio-2*SE_B1_2\n",
    "IntervaloB0_up_radio, IntervaloB0_low_radio,IntervaloB1_up_radio,IntervaloB1_low_radio"
   ]
  },
  {
   "cell_type": "markdown",
   "id": "8e31f731-7c15-43cd-8853-c17609f7f20d",
   "metadata": {},
   "source": [
    "### Estadísticos t"
   ]
  },
  {
   "cell_type": "code",
   "execution_count": 50,
   "id": "edeca996-2880-4b5a-9aed-cc1851581b01",
   "metadata": {},
   "outputs": [
    {
     "data": {
      "text/plain": [
       "(array([16.54224531]), array([9.92076547]))"
      ]
     },
     "execution_count": 50,
     "metadata": {},
     "output_type": "execute_result"
    }
   ],
   "source": [
    "t0_radio= B0_radio/SE_B0_2\n",
    "t0_radio\n",
    "t1_radio= Beta1_radio/SE_B1_2\n",
    "t1_radio\n",
    "t0_radio, t1_radio"
   ]
  },
  {
   "cell_type": "markdown",
   "id": "2a1eaedd-7f9b-4627-89bf-bac8fe6b1c4f",
   "metadata": {},
   "source": [
    "### p_value"
   ]
  },
  {
   "cell_type": "code",
   "execution_count": 52,
   "id": "04a87492-d9d8-42e8-b4b8-ddd814624f12",
   "metadata": {},
   "outputs": [
    {
     "data": {
      "text/plain": [
       "(array([0.]), array([0.]))"
      ]
     },
     "execution_count": 52,
     "metadata": {},
     "output_type": "execute_result"
    }
   ],
   "source": [
    "p_b1_radio = 2*(1 - stats.t.cdf(np.abs(t1_radio), df=n-2))\n",
    "p_b1_radio\n",
    "p_b0_radio = 2*(1 - stats.t.cdf(np.abs(t0_radio), df=n-2))\n",
    "p_b0_radio\n",
    "p_b1_radio, p_b0_radio"
   ]
  },
  {
   "cell_type": "markdown",
   "id": "fd4cba79-db36-40d4-94e8-e19760558fc7",
   "metadata": {},
   "source": [
    "### Observaciones"
   ]
  },
  {
   "cell_type": "markdown",
   "id": "b8f2ca9d-a576-4f68-b614-f8a7d0147ead",
   "metadata": {},
   "source": [
    "El coeficiente de radio es positivo y estadísticamente significativo, con un intervalo de confianza que no incluye al cero, un estadístico t elevado y un p-value menor a 0.05. Estos resultados permiten rechazar la hipótesis nula y afirmar que la inversión en radio tiene un efecto real y relevante en el incremento de las ventas."
   ]
  },
  {
   "cell_type": "markdown",
   "id": "ac707512-32a0-423d-b981-008e914abad3",
   "metadata": {},
   "source": [
    "## Regresión de ventas de periódico"
   ]
  },
  {
   "cell_type": "markdown",
   "id": "735c7797-bf47-4c73-b9d2-4a641dd9978e",
   "metadata": {},
   "source": [
    "### Coeficientes"
   ]
  },
  {
   "cell_type": "code",
   "execution_count": 54,
   "id": "e47716e4-d1bd-45fc-bfdf-c9632702c00b",
   "metadata": {},
   "outputs": [
    {
     "data": {
      "text/plain": [
       "(12.35140706927816, array([0.0546931]))"
      ]
     },
     "execution_count": 54,
     "metadata": {},
     "output_type": "execute_result"
    }
   ],
   "source": [
    "lr3=LinearRegression()\n",
    "lr3.fit(x3,y)\n",
    "lr3.intercept_, lr3.coef_\n",
    "B0_paper= lr3.intercept_ \n",
    "Beta1_paper= lr3.coef_\n",
    "B0_paper, Beta1_paper"
   ]
  },
  {
   "cell_type": "markdown",
   "id": "b4753eec-3da0-4f3e-b135-bfca80d6c7e9",
   "metadata": {},
   "source": [
    "### Errores estándar de los coeficientes"
   ]
  },
  {
   "cell_type": "code",
   "execution_count": 56,
   "id": "bc28d1fe-d3e2-4194-870a-ae02f7188e00",
   "metadata": {},
   "outputs": [
    {
     "data": {
      "text/plain": [
       "5134.804544111939"
      ]
     },
     "execution_count": 56,
     "metadata": {},
     "output_type": "execute_result"
    }
   ],
   "source": [
    "n=len(y)\n",
    "p=2\n",
    "x3_mean = np.mean(x3)\n",
    "y_mean = np.mean(y)\n",
    "RSS3= np.sum((lr3.predict(x3)-y)**2)\n",
    "RSS3"
   ]
  },
  {
   "cell_type": "code",
   "execution_count": 58,
   "id": "a3805b0f-837b-4dc4-84a9-5af1d6edad1a",
   "metadata": {},
   "outputs": [
    {
     "data": {
      "text/plain": [
       "25.933356283393632"
      ]
     },
     "execution_count": 58,
     "metadata": {},
     "output_type": "execute_result"
    }
   ],
   "source": [
    "sigma2_3= RSS3/(n-p)\n",
    "sigma2_3"
   ]
  },
  {
   "cell_type": "code",
   "execution_count": 60,
   "id": "d16b1d7f-53a2-478e-9663-2af2de73293c",
   "metadata": {},
   "outputs": [
    {
     "data": {
      "text/plain": [
       "array([0.01657572])"
      ]
     },
     "execution_count": 60,
     "metadata": {},
     "output_type": "execute_result"
    }
   ],
   "source": [
    "SE_B3= sigma2_3/sum((x3-x3_mean)**2)\n",
    "SE_B3=np.sqrt(SE_B3)\n",
    "SE_B3"
   ]
  },
  {
   "cell_type": "code",
   "execution_count": 62,
   "id": "2aed9a52-eaec-461d-81bb-a7e265ddea5e",
   "metadata": {},
   "outputs": [
    {
     "data": {
      "text/plain": [
       "array([0.62142019])"
      ]
     },
     "execution_count": 62,
     "metadata": {},
     "output_type": "execute_result"
    }
   ],
   "source": [
    "SE_B0_3=sigma2_3*(1/n + ((x3_mean**2)/sum((x3-x3_mean)**2)))\n",
    "SE_B0_3=np.sqrt(SE_B0_3)\n",
    "SE_B0_3"
   ]
  },
  {
   "cell_type": "markdown",
   "id": "602e0229-5d15-4bd9-8764-6b1e995497b2",
   "metadata": {},
   "source": [
    "### Intervalos de confianza"
   ]
  },
  {
   "cell_type": "code",
   "execution_count": 64,
   "id": "cdc0b41b-089f-4548-abfb-1909665104ed",
   "metadata": {},
   "outputs": [
    {
     "data": {
      "text/plain": [
       "(array([13.59424744]),\n",
       " array([11.10856669]),\n",
       " array([0.08784454]),\n",
       " array([0.02154165]))"
      ]
     },
     "execution_count": 64,
     "metadata": {},
     "output_type": "execute_result"
    }
   ],
   "source": [
    "IntervaloB0_up_paper= B0_paper+2*SE_B0_3\n",
    "IntervaloB0_low_paper= B0_paper-2*SE_B0_3\n",
    "IntervaloB1_up_paper= Beta1_paper+2*SE_B3\n",
    "IntervaloB1_low_paper= Beta1_paper-2*SE_B3\n",
    "IntervaloB0_up_paper, IntervaloB0_low_paper,IntervaloB1_up_paper,IntervaloB1_low_paper"
   ]
  },
  {
   "cell_type": "markdown",
   "id": "10cb5795-983d-4470-9d0f-2af857473bb7",
   "metadata": {},
   "source": [
    "### Estadísticos t"
   ]
  },
  {
   "cell_type": "code",
   "execution_count": 66,
   "id": "8fec5382-8fe3-4a12-9760-ad572e8f9a34",
   "metadata": {},
   "outputs": [
    {
     "data": {
      "text/plain": [
       "(array([19.87609562]), array([3.29959074]))"
      ]
     },
     "execution_count": 66,
     "metadata": {},
     "output_type": "execute_result"
    }
   ],
   "source": [
    "t0_paper= B0_paper/SE_B0_3\n",
    "t0_paper\n",
    "t1_paper= Beta1_paper/SE_B3\n",
    "t1_paper\n",
    "t0_paper, t1_paper"
   ]
  },
  {
   "cell_type": "markdown",
   "id": "c0f7f417-cfb7-4d4b-a0d1-6612904051a8",
   "metadata": {},
   "source": [
    "### p_value"
   ]
  },
  {
   "cell_type": "code",
   "execution_count": 68,
   "id": "bbf06333-d44b-47c0-8e4c-8a197d5e2f2d",
   "metadata": {},
   "outputs": [
    {
     "data": {
      "text/plain": [
       "(array([0.0011482]), array([0.]))"
      ]
     },
     "execution_count": 68,
     "metadata": {},
     "output_type": "execute_result"
    }
   ],
   "source": [
    "p_b1_paper = 2*(1 - stats.t.cdf(np.abs(t1_paper), df=n-2))\n",
    "p_b1_paper\n",
    "p_b0_paper = 2*(1 - stats.t.cdf(np.abs(t0_paper), df=n-2))\n",
    "p_b0_paper\n",
    "p_b1_paper, p_b0_paper"
   ]
  },
  {
   "cell_type": "markdown",
   "id": "fbd96be8-cf86-446a-9024-966961fe107e",
   "metadata": {},
   "source": [
    "### Observaciones"
   ]
  },
  {
   "cell_type": "markdown",
   "id": "53f8295c-6146-49aa-a80e-96a986b7420a",
   "metadata": {},
   "source": [
    "En el caso de periódico, el coeficiente estimado es positivo y su intervalo de confianza incluye al cero, acompañado de un estadístico t pequeño y un p-value menor a 0.05. A diferencia de los otros casos, el p-value de B1 dio diferente, lo que nos dice que sí importa lo que hagamos con el periódico, indicando que sí se rechaza la hipótesis nula porque se afirma que sí es diferente de 0 aunque no es tan seguro o significativo como la radio o tv."
   ]
  },
  {
   "cell_type": "markdown",
   "id": "556988ae-3656-428d-817b-76f9e1534f46",
   "metadata": {},
   "source": [
    "## Regresión lineal múltiple"
   ]
  },
  {
   "cell_type": "markdown",
   "id": "943698d8-7f84-4245-8be3-e4c8f34be5da",
   "metadata": {},
   "source": [
    "En lugar de hacer una regresión para cada factor independiente, quizás se puede extender el modelo para que tenga varios factores dentro:\n",
    "\n",
    "$$ Y = \\beta_0 + \\beta_1 X_1 + \\beta_2 X_2 + ... + \\beta_p X_p + \\epsilon $$\n",
    "\n",
    "Para nuestro ejemplo de publicidad:\n",
    "\n",
    "$$ \\text{sales} = \\beta_0 + \\beta_1 (\\text{TV}) + \\beta_2 (\\text{radio}) + \\beta_3 (\\text{newspaper}) + \\epsilon $$"
   ]
  },
  {
   "cell_type": "markdown",
   "id": "df8cd89a-0c25-4e1d-9213-292807e17ccf",
   "metadata": {},
   "source": [
    "Utiliza la librería `statsmodels` para realizar la regresión. Por defecto la librería statsmodels no toma en cuenta el intercepto ($\\beta_0$), por lo que se tendrá que agregar una columna de unos de tamaño *n* a la matriz X.\n",
    "\n",
    "`import statsmodels.api as sm`\n",
    "\n",
    "`ols = sm.OLS(Y, X)`\n",
    "\n",
    "`results = ols.fit()`\n",
    "\n",
    "`results.summary()`"
   ]
  },
  {
   "cell_type": "code",
   "execution_count": 71,
   "id": "022522eb-2c18-435e-b51b-4ed5a5c54669",
   "metadata": {},
   "outputs": [],
   "source": [
    "import statsmodels.api as sm"
   ]
  },
  {
   "cell_type": "code",
   "execution_count": 73,
   "id": "a7a3bd74-0f56-4199-a327-278c3ec9919e",
   "metadata": {},
   "outputs": [
    {
     "data": {
      "text/html": [
       "<table class=\"simpletable\">\n",
       "<caption>OLS Regression Results</caption>\n",
       "<tr>\n",
       "  <th>Dep. Variable:</th>          <td>sales</td>      <th>  R-squared:         </th> <td>   0.897</td>\n",
       "</tr>\n",
       "<tr>\n",
       "  <th>Model:</th>                   <td>OLS</td>       <th>  Adj. R-squared:    </th> <td>   0.896</td>\n",
       "</tr>\n",
       "<tr>\n",
       "  <th>Method:</th>             <td>Least Squares</td>  <th>  F-statistic:       </th> <td>   570.3</td>\n",
       "</tr>\n",
       "<tr>\n",
       "  <th>Date:</th>             <td>Sat, 30 Aug 2025</td> <th>  Prob (F-statistic):</th> <td>1.58e-96</td>\n",
       "</tr>\n",
       "<tr>\n",
       "  <th>Time:</th>                 <td>12:22:09</td>     <th>  Log-Likelihood:    </th> <td> -386.18</td>\n",
       "</tr>\n",
       "<tr>\n",
       "  <th>No. Observations:</th>      <td>   200</td>      <th>  AIC:               </th> <td>   780.4</td>\n",
       "</tr>\n",
       "<tr>\n",
       "  <th>Df Residuals:</th>          <td>   196</td>      <th>  BIC:               </th> <td>   793.6</td>\n",
       "</tr>\n",
       "<tr>\n",
       "  <th>Df Model:</th>              <td>     3</td>      <th>                     </th>     <td> </td>   \n",
       "</tr>\n",
       "<tr>\n",
       "  <th>Covariance Type:</th>      <td>nonrobust</td>    <th>                     </th>     <td> </td>   \n",
       "</tr>\n",
       "</table>\n",
       "<table class=\"simpletable\">\n",
       "<tr>\n",
       "    <td></td>       <th>coef</th>     <th>std err</th>      <th>t</th>      <th>P>|t|</th>  <th>[0.025</th>    <th>0.975]</th>  \n",
       "</tr>\n",
       "<tr>\n",
       "  <th>const</th> <td>    2.9389</td> <td>    0.312</td> <td>    9.422</td> <td> 0.000</td> <td>    2.324</td> <td>    3.554</td>\n",
       "</tr>\n",
       "<tr>\n",
       "  <th>x1</th>    <td>    0.0458</td> <td>    0.001</td> <td>   32.809</td> <td> 0.000</td> <td>    0.043</td> <td>    0.049</td>\n",
       "</tr>\n",
       "<tr>\n",
       "  <th>x2</th>    <td>    0.1885</td> <td>    0.009</td> <td>   21.893</td> <td> 0.000</td> <td>    0.172</td> <td>    0.206</td>\n",
       "</tr>\n",
       "<tr>\n",
       "  <th>x3</th>    <td>   -0.0010</td> <td>    0.006</td> <td>   -0.177</td> <td> 0.860</td> <td>   -0.013</td> <td>    0.011</td>\n",
       "</tr>\n",
       "</table>\n",
       "<table class=\"simpletable\">\n",
       "<tr>\n",
       "  <th>Omnibus:</th>       <td>60.414</td> <th>  Durbin-Watson:     </th> <td>   2.084</td>\n",
       "</tr>\n",
       "<tr>\n",
       "  <th>Prob(Omnibus):</th> <td> 0.000</td> <th>  Jarque-Bera (JB):  </th> <td> 151.241</td>\n",
       "</tr>\n",
       "<tr>\n",
       "  <th>Skew:</th>          <td>-1.327</td> <th>  Prob(JB):          </th> <td>1.44e-33</td>\n",
       "</tr>\n",
       "<tr>\n",
       "  <th>Kurtosis:</th>      <td> 6.332</td> <th>  Cond. No.          </th> <td>    454.</td>\n",
       "</tr>\n",
       "</table><br/><br/>Notes:<br/>[1] Standard Errors assume that the covariance matrix of the errors is correctly specified."
      ],
      "text/latex": [
       "\\begin{center}\n",
       "\\begin{tabular}{lclc}\n",
       "\\toprule\n",
       "\\textbf{Dep. Variable:}    &      sales       & \\textbf{  R-squared:         } &     0.897   \\\\\n",
       "\\textbf{Model:}            &       OLS        & \\textbf{  Adj. R-squared:    } &     0.896   \\\\\n",
       "\\textbf{Method:}           &  Least Squares   & \\textbf{  F-statistic:       } &     570.3   \\\\\n",
       "\\textbf{Date:}             & Sat, 30 Aug 2025 & \\textbf{  Prob (F-statistic):} &  1.58e-96   \\\\\n",
       "\\textbf{Time:}             &     12:22:09     & \\textbf{  Log-Likelihood:    } &   -386.18   \\\\\n",
       "\\textbf{No. Observations:} &         200      & \\textbf{  AIC:               } &     780.4   \\\\\n",
       "\\textbf{Df Residuals:}     &         196      & \\textbf{  BIC:               } &     793.6   \\\\\n",
       "\\textbf{Df Model:}         &           3      & \\textbf{                     } &             \\\\\n",
       "\\textbf{Covariance Type:}  &    nonrobust     & \\textbf{                     } &             \\\\\n",
       "\\bottomrule\n",
       "\\end{tabular}\n",
       "\\begin{tabular}{lcccccc}\n",
       "               & \\textbf{coef} & \\textbf{std err} & \\textbf{t} & \\textbf{P$> |$t$|$} & \\textbf{[0.025} & \\textbf{0.975]}  \\\\\n",
       "\\midrule\n",
       "\\textbf{const} &       2.9389  &        0.312     &     9.422  &         0.000        &        2.324    &        3.554     \\\\\n",
       "\\textbf{x1}    &       0.0458  &        0.001     &    32.809  &         0.000        &        0.043    &        0.049     \\\\\n",
       "\\textbf{x2}    &       0.1885  &        0.009     &    21.893  &         0.000        &        0.172    &        0.206     \\\\\n",
       "\\textbf{x3}    &      -0.0010  &        0.006     &    -0.177  &         0.860        &       -0.013    &        0.011     \\\\\n",
       "\\bottomrule\n",
       "\\end{tabular}\n",
       "\\begin{tabular}{lclc}\n",
       "\\textbf{Omnibus:}       & 60.414 & \\textbf{  Durbin-Watson:     } &    2.084  \\\\\n",
       "\\textbf{Prob(Omnibus):} &  0.000 & \\textbf{  Jarque-Bera (JB):  } &  151.241  \\\\\n",
       "\\textbf{Skew:}          & -1.327 & \\textbf{  Prob(JB):          } & 1.44e-33  \\\\\n",
       "\\textbf{Kurtosis:}      &  6.332 & \\textbf{  Cond. No.          } &     454.  \\\\\n",
       "\\bottomrule\n",
       "\\end{tabular}\n",
       "%\\caption{OLS Regression Results}\n",
       "\\end{center}\n",
       "\n",
       "Notes: \\newline\n",
       " [1] Standard Errors assume that the covariance matrix of the errors is correctly specified."
      ],
      "text/plain": [
       "<class 'statsmodels.iolib.summary.Summary'>\n",
       "\"\"\"\n",
       "                            OLS Regression Results                            \n",
       "==============================================================================\n",
       "Dep. Variable:                  sales   R-squared:                       0.897\n",
       "Model:                            OLS   Adj. R-squared:                  0.896\n",
       "Method:                 Least Squares   F-statistic:                     570.3\n",
       "Date:                Sat, 30 Aug 2025   Prob (F-statistic):           1.58e-96\n",
       "Time:                        12:22:09   Log-Likelihood:                -386.18\n",
       "No. Observations:                 200   AIC:                             780.4\n",
       "Df Residuals:                     196   BIC:                             793.6\n",
       "Df Model:                           3                                         \n",
       "Covariance Type:            nonrobust                                         \n",
       "==============================================================================\n",
       "                 coef    std err          t      P>|t|      [0.025      0.975]\n",
       "------------------------------------------------------------------------------\n",
       "const          2.9389      0.312      9.422      0.000       2.324       3.554\n",
       "x1             0.0458      0.001     32.809      0.000       0.043       0.049\n",
       "x2             0.1885      0.009     21.893      0.000       0.172       0.206\n",
       "x3            -0.0010      0.006     -0.177      0.860      -0.013       0.011\n",
       "==============================================================================\n",
       "Omnibus:                       60.414   Durbin-Watson:                   2.084\n",
       "Prob(Omnibus):                  0.000   Jarque-Bera (JB):              151.241\n",
       "Skew:                          -1.327   Prob(JB):                     1.44e-33\n",
       "Kurtosis:                       6.332   Cond. No.                         454.\n",
       "==============================================================================\n",
       "\n",
       "Notes:\n",
       "[1] Standard Errors assume that the covariance matrix of the errors is correctly specified.\n",
       "\"\"\""
      ]
     },
     "execution_count": 73,
     "metadata": {},
     "output_type": "execute_result"
    }
   ],
   "source": [
    "n=len(y)\n",
    "unos=np.ones([n,1])\n",
    "X=np.hstack([unos, x1,x2,x3])\n",
    "# X es la concatenación de todos los factores\n",
    "ols= sm.OLS(y,X)\n",
    "results= ols.fit()\n",
    "results.summary()"
   ]
  },
  {
   "cell_type": "markdown",
   "id": "df0f403f-b246-4706-a4c6-5f17be224048",
   "metadata": {},
   "source": [
    "¿Qué diferencias puedes observar entre los *p-values* de una regresión múltiple y los encontrados en las regresiones simples? ¿Por qué crees que existen estas diferencias?"
   ]
  },
  {
   "cell_type": "markdown",
   "id": "93133133-763d-4518-9ccd-132c49bbd31f",
   "metadata": {},
   "source": [
    "Los resultados de los p-values son iguales para B0, tele y radio, sin embargo, para los periódicos arroja un p-value alto, lo que significa que para este caso, la hipótesis nula no se rechaza, por lo que hay suficiente evidencia estadística para afirmar que no hay una relación con esta variable y, por lo tanto, es irrelevante; su información ya está en alguna de las otras variables, es decir la combinación entre tv y radio ya te da lo del periódico.\n",
    "La correlación no es igual a causa, lo que significa que en una regresión simple las variables, al analizarlas por sí solas, pueden mostrar asociación con otras variables. Sin embargo, al incluirlas junto con televisión y radio en una regresión múltiple, parte de su efecto se “absorbe” por estas variables más influyentes, revelando que su aporte real es mínimo o nulo."
   ]
  },
  {
   "cell_type": "markdown",
   "id": "78aa67af-cfca-417c-b452-9ca6bc969a76",
   "metadata": {},
   "source": [
    "### Regresión sin periódico"
   ]
  },
  {
   "cell_type": "code",
   "execution_count": 75,
   "id": "957947e5-17bd-4524-b11e-c913450129ed",
   "metadata": {},
   "outputs": [
    {
     "data": {
      "text/html": [
       "<table class=\"simpletable\">\n",
       "<caption>OLS Regression Results</caption>\n",
       "<tr>\n",
       "  <th>Dep. Variable:</th>          <td>sales</td>      <th>  R-squared:         </th> <td>   0.968</td> \n",
       "</tr>\n",
       "<tr>\n",
       "  <th>Model:</th>                   <td>OLS</td>       <th>  Adj. R-squared:    </th> <td>   0.967</td> \n",
       "</tr>\n",
       "<tr>\n",
       "  <th>Method:</th>             <td>Least Squares</td>  <th>  F-statistic:       </th> <td>   1963.</td> \n",
       "</tr>\n",
       "<tr>\n",
       "  <th>Date:</th>             <td>Sat, 30 Aug 2025</td> <th>  Prob (F-statistic):</th> <td>6.68e-146</td>\n",
       "</tr>\n",
       "<tr>\n",
       "  <th>Time:</th>                 <td>12:22:39</td>     <th>  Log-Likelihood:    </th> <td> -270.14</td> \n",
       "</tr>\n",
       "<tr>\n",
       "  <th>No. Observations:</th>      <td>   200</td>      <th>  AIC:               </th> <td>   548.3</td> \n",
       "</tr>\n",
       "<tr>\n",
       "  <th>Df Residuals:</th>          <td>   196</td>      <th>  BIC:               </th> <td>   561.5</td> \n",
       "</tr>\n",
       "<tr>\n",
       "  <th>Df Model:</th>              <td>     3</td>      <th>                     </th>     <td> </td>    \n",
       "</tr>\n",
       "<tr>\n",
       "  <th>Covariance Type:</th>      <td>nonrobust</td>    <th>                     </th>     <td> </td>    \n",
       "</tr>\n",
       "</table>\n",
       "<table class=\"simpletable\">\n",
       "<tr>\n",
       "    <td></td>       <th>coef</th>     <th>std err</th>      <th>t</th>      <th>P>|t|</th>  <th>[0.025</th>    <th>0.975]</th>  \n",
       "</tr>\n",
       "<tr>\n",
       "  <th>const</th> <td>    6.7502</td> <td>    0.248</td> <td>   27.233</td> <td> 0.000</td> <td>    6.261</td> <td>    7.239</td>\n",
       "</tr>\n",
       "<tr>\n",
       "  <th>x1</th>    <td>    0.0191</td> <td>    0.002</td> <td>   12.699</td> <td> 0.000</td> <td>    0.016</td> <td>    0.022</td>\n",
       "</tr>\n",
       "<tr>\n",
       "  <th>x2</th>    <td>    0.0289</td> <td>    0.009</td> <td>    3.241</td> <td> 0.001</td> <td>    0.011</td> <td>    0.046</td>\n",
       "</tr>\n",
       "<tr>\n",
       "  <th>x3</th>    <td>    0.0011</td> <td> 5.24e-05</td> <td>   20.727</td> <td> 0.000</td> <td>    0.001</td> <td>    0.001</td>\n",
       "</tr>\n",
       "</table>\n",
       "<table class=\"simpletable\">\n",
       "<tr>\n",
       "  <th>Omnibus:</th>       <td>128.132</td> <th>  Durbin-Watson:     </th> <td>   2.224</td> \n",
       "</tr>\n",
       "<tr>\n",
       "  <th>Prob(Omnibus):</th> <td> 0.000</td>  <th>  Jarque-Bera (JB):  </th> <td>1183.719</td> \n",
       "</tr>\n",
       "<tr>\n",
       "  <th>Skew:</th>          <td>-2.323</td>  <th>  Prob(JB):          </th> <td>9.09e-258</td>\n",
       "</tr>\n",
       "<tr>\n",
       "  <th>Kurtosis:</th>      <td>13.975</td>  <th>  Cond. No.          </th> <td>1.80e+04</td> \n",
       "</tr>\n",
       "</table><br/><br/>Notes:<br/>[1] Standard Errors assume that the covariance matrix of the errors is correctly specified.<br/>[2] The condition number is large, 1.8e+04. This might indicate that there are<br/>strong multicollinearity or other numerical problems."
      ],
      "text/latex": [
       "\\begin{center}\n",
       "\\begin{tabular}{lclc}\n",
       "\\toprule\n",
       "\\textbf{Dep. Variable:}    &      sales       & \\textbf{  R-squared:         } &     0.968   \\\\\n",
       "\\textbf{Model:}            &       OLS        & \\textbf{  Adj. R-squared:    } &     0.967   \\\\\n",
       "\\textbf{Method:}           &  Least Squares   & \\textbf{  F-statistic:       } &     1963.   \\\\\n",
       "\\textbf{Date:}             & Sat, 30 Aug 2025 & \\textbf{  Prob (F-statistic):} & 6.68e-146   \\\\\n",
       "\\textbf{Time:}             &     12:22:39     & \\textbf{  Log-Likelihood:    } &   -270.14   \\\\\n",
       "\\textbf{No. Observations:} &         200      & \\textbf{  AIC:               } &     548.3   \\\\\n",
       "\\textbf{Df Residuals:}     &         196      & \\textbf{  BIC:               } &     561.5   \\\\\n",
       "\\textbf{Df Model:}         &           3      & \\textbf{                     } &             \\\\\n",
       "\\textbf{Covariance Type:}  &    nonrobust     & \\textbf{                     } &             \\\\\n",
       "\\bottomrule\n",
       "\\end{tabular}\n",
       "\\begin{tabular}{lcccccc}\n",
       "               & \\textbf{coef} & \\textbf{std err} & \\textbf{t} & \\textbf{P$> |$t$|$} & \\textbf{[0.025} & \\textbf{0.975]}  \\\\\n",
       "\\midrule\n",
       "\\textbf{const} &       6.7502  &        0.248     &    27.233  &         0.000        &        6.261    &        7.239     \\\\\n",
       "\\textbf{x1}    &       0.0191  &        0.002     &    12.699  &         0.000        &        0.016    &        0.022     \\\\\n",
       "\\textbf{x2}    &       0.0289  &        0.009     &     3.241  &         0.001        &        0.011    &        0.046     \\\\\n",
       "\\textbf{x3}    &       0.0011  &     5.24e-05     &    20.727  &         0.000        &        0.001    &        0.001     \\\\\n",
       "\\bottomrule\n",
       "\\end{tabular}\n",
       "\\begin{tabular}{lclc}\n",
       "\\textbf{Omnibus:}       & 128.132 & \\textbf{  Durbin-Watson:     } &     2.224  \\\\\n",
       "\\textbf{Prob(Omnibus):} &   0.000 & \\textbf{  Jarque-Bera (JB):  } &  1183.719  \\\\\n",
       "\\textbf{Skew:}          &  -2.323 & \\textbf{  Prob(JB):          } & 9.09e-258  \\\\\n",
       "\\textbf{Kurtosis:}      &  13.975 & \\textbf{  Cond. No.          } &  1.80e+04  \\\\\n",
       "\\bottomrule\n",
       "\\end{tabular}\n",
       "%\\caption{OLS Regression Results}\n",
       "\\end{center}\n",
       "\n",
       "Notes: \\newline\n",
       " [1] Standard Errors assume that the covariance matrix of the errors is correctly specified. \\newline\n",
       " [2] The condition number is large, 1.8e+04. This might indicate that there are \\newline\n",
       " strong multicollinearity or other numerical problems."
      ],
      "text/plain": [
       "<class 'statsmodels.iolib.summary.Summary'>\n",
       "\"\"\"\n",
       "                            OLS Regression Results                            \n",
       "==============================================================================\n",
       "Dep. Variable:                  sales   R-squared:                       0.968\n",
       "Model:                            OLS   Adj. R-squared:                  0.967\n",
       "Method:                 Least Squares   F-statistic:                     1963.\n",
       "Date:                Sat, 30 Aug 2025   Prob (F-statistic):          6.68e-146\n",
       "Time:                        12:22:39   Log-Likelihood:                -270.14\n",
       "No. Observations:                 200   AIC:                             548.3\n",
       "Df Residuals:                     196   BIC:                             561.5\n",
       "Df Model:                           3                                         \n",
       "Covariance Type:            nonrobust                                         \n",
       "==============================================================================\n",
       "                 coef    std err          t      P>|t|      [0.025      0.975]\n",
       "------------------------------------------------------------------------------\n",
       "const          6.7502      0.248     27.233      0.000       6.261       7.239\n",
       "x1             0.0191      0.002     12.699      0.000       0.016       0.022\n",
       "x2             0.0289      0.009      3.241      0.001       0.011       0.046\n",
       "x3             0.0011   5.24e-05     20.727      0.000       0.001       0.001\n",
       "==============================================================================\n",
       "Omnibus:                      128.132   Durbin-Watson:                   2.224\n",
       "Prob(Omnibus):                  0.000   Jarque-Bera (JB):             1183.719\n",
       "Skew:                          -2.323   Prob(JB):                    9.09e-258\n",
       "Kurtosis:                      13.975   Cond. No.                     1.80e+04\n",
       "==============================================================================\n",
       "\n",
       "Notes:\n",
       "[1] Standard Errors assume that the covariance matrix of the errors is correctly specified.\n",
       "[2] The condition number is large, 1.8e+04. This might indicate that there are\n",
       "strong multicollinearity or other numerical problems.\n",
       "\"\"\""
      ]
     },
     "execution_count": 75,
     "metadata": {},
     "output_type": "execute_result"
    }
   ],
   "source": [
    "n=len(y)\n",
    "unos=np.ones([n,1])\n",
    "x_nueva= x1*x2.reshape([-1,1])\n",
    "X=np.hstack([unos, x1,x2,x_nueva])\n",
    "# X es la concatenación de todos los factores\n",
    "ols= sm.OLS(y,X)\n",
    "results= ols.fit()\n",
    "results.summary()"
   ]
  },
  {
   "cell_type": "markdown",
   "id": "2f134969-8838-47a7-b443-07f949925912",
   "metadata": {},
   "source": [
    "ventas= 6.75 + (0.019 + 0.0011 radio) TV + 0.028 radio"
   ]
  },
  {
   "cell_type": "markdown",
   "id": "d6383f47-aa2d-4716-932e-824c3e567ce5",
   "metadata": {},
   "source": [
    "Entre mas dinero tenga en la radio, más efectivo es la televisión o viceversa"
   ]
  },
  {
   "cell_type": "markdown",
   "id": "b00f29b6-9d4b-4ff4-b245-762819a2f01f",
   "metadata": {},
   "source": [
    "### Modelo choncho"
   ]
  },
  {
   "cell_type": "code",
   "execution_count": 114,
   "id": "079f5179-5305-404b-a24d-8887ffb946af",
   "metadata": {},
   "outputs": [
    {
     "data": {
      "text/html": [
       "<table class=\"simpletable\">\n",
       "<caption>OLS Regression Results</caption>\n",
       "<tr>\n",
       "  <th>Dep. Variable:</th>          <td>sales</td>      <th>  R-squared:         </th> <td>   0.969</td> \n",
       "</tr>\n",
       "<tr>\n",
       "  <th>Model:</th>                   <td>OLS</td>       <th>  Adj. R-squared:    </th> <td>   0.968</td> \n",
       "</tr>\n",
       "<tr>\n",
       "  <th>Method:</th>             <td>Least Squares</td>  <th>  F-statistic:       </th> <td>   993.3</td> \n",
       "</tr>\n",
       "<tr>\n",
       "  <th>Date:</th>             <td>Thu, 28 Aug 2025</td> <th>  Prob (F-statistic):</th> <td>3.68e-142</td>\n",
       "</tr>\n",
       "<tr>\n",
       "  <th>Time:</th>                 <td>17:43:24</td>     <th>  Log-Likelihood:    </th> <td> -267.49</td> \n",
       "</tr>\n",
       "<tr>\n",
       "  <th>No. Observations:</th>      <td>   200</td>      <th>  AIC:               </th> <td>   549.0</td> \n",
       "</tr>\n",
       "<tr>\n",
       "  <th>Df Residuals:</th>          <td>   193</td>      <th>  BIC:               </th> <td>   572.1</td> \n",
       "</tr>\n",
       "<tr>\n",
       "  <th>Df Model:</th>              <td>     6</td>      <th>                     </th>     <td> </td>    \n",
       "</tr>\n",
       "<tr>\n",
       "  <th>Covariance Type:</th>      <td>nonrobust</td>    <th>                     </th>     <td> </td>    \n",
       "</tr>\n",
       "</table>\n",
       "<table class=\"simpletable\">\n",
       "<tr>\n",
       "    <td></td>       <th>coef</th>     <th>std err</th>      <th>t</th>      <th>P>|t|</th>  <th>[0.025</th>    <th>0.975]</th>  \n",
       "</tr>\n",
       "<tr>\n",
       "  <th>const</th> <td>    6.4602</td> <td>    0.318</td> <td>   20.342</td> <td> 0.000</td> <td>    5.834</td> <td>    7.087</td>\n",
       "</tr>\n",
       "<tr>\n",
       "  <th>x1</th>    <td>    0.0203</td> <td>    0.002</td> <td>   12.633</td> <td> 0.000</td> <td>    0.017</td> <td>    0.024</td>\n",
       "</tr>\n",
       "<tr>\n",
       "  <th>x2</th>    <td>    0.0229</td> <td>    0.011</td> <td>    2.009</td> <td> 0.046</td> <td>    0.000</td> <td>    0.045</td>\n",
       "</tr>\n",
       "<tr>\n",
       "  <th>x3</th>    <td>    0.0170</td> <td>    0.010</td> <td>    1.691</td> <td> 0.092</td> <td>   -0.003</td> <td>    0.037</td>\n",
       "</tr>\n",
       "<tr>\n",
       "  <th>x4</th>    <td>    0.0011</td> <td> 5.72e-05</td> <td>   19.930</td> <td> 0.000</td> <td>    0.001</td> <td>    0.001</td>\n",
       "</tr>\n",
       "<tr>\n",
       "  <th>x5</th>    <td>-7.971e-05</td> <td> 3.58e-05</td> <td>   -2.227</td> <td> 0.027</td> <td>   -0.000</td> <td>-9.12e-06</td>\n",
       "</tr>\n",
       "<tr>\n",
       "  <th>x6</th>    <td>   -0.0001</td> <td>    0.000</td> <td>   -0.464</td> <td> 0.643</td> <td>   -0.001</td> <td>    0.000</td>\n",
       "</tr>\n",
       "</table>\n",
       "<table class=\"simpletable\">\n",
       "<tr>\n",
       "  <th>Omnibus:</th>       <td>111.385</td> <th>  Durbin-Watson:     </th> <td>   2.222</td> \n",
       "</tr>\n",
       "<tr>\n",
       "  <th>Prob(Omnibus):</th> <td> 0.000</td>  <th>  Jarque-Bera (JB):  </th> <td> 767.483</td> \n",
       "</tr>\n",
       "<tr>\n",
       "  <th>Skew:</th>          <td>-2.046</td>  <th>  Prob(JB):          </th> <td>2.20e-167</td>\n",
       "</tr>\n",
       "<tr>\n",
       "  <th>Kurtosis:</th>      <td>11.681</td>  <th>  Cond. No.          </th> <td>3.80e+04</td> \n",
       "</tr>\n",
       "</table><br/><br/>Notes:<br/>[1] Standard Errors assume that the covariance matrix of the errors is correctly specified.<br/>[2] The condition number is large, 3.8e+04. This might indicate that there are<br/>strong multicollinearity or other numerical problems."
      ],
      "text/latex": [
       "\\begin{center}\n",
       "\\begin{tabular}{lclc}\n",
       "\\toprule\n",
       "\\textbf{Dep. Variable:}    &      sales       & \\textbf{  R-squared:         } &     0.969   \\\\\n",
       "\\textbf{Model:}            &       OLS        & \\textbf{  Adj. R-squared:    } &     0.968   \\\\\n",
       "\\textbf{Method:}           &  Least Squares   & \\textbf{  F-statistic:       } &     993.3   \\\\\n",
       "\\textbf{Date:}             & Thu, 28 Aug 2025 & \\textbf{  Prob (F-statistic):} & 3.68e-142   \\\\\n",
       "\\textbf{Time:}             &     17:43:24     & \\textbf{  Log-Likelihood:    } &   -267.49   \\\\\n",
       "\\textbf{No. Observations:} &         200      & \\textbf{  AIC:               } &     549.0   \\\\\n",
       "\\textbf{Df Residuals:}     &         193      & \\textbf{  BIC:               } &     572.1   \\\\\n",
       "\\textbf{Df Model:}         &           6      & \\textbf{                     } &             \\\\\n",
       "\\textbf{Covariance Type:}  &    nonrobust     & \\textbf{                     } &             \\\\\n",
       "\\bottomrule\n",
       "\\end{tabular}\n",
       "\\begin{tabular}{lcccccc}\n",
       "               & \\textbf{coef} & \\textbf{std err} & \\textbf{t} & \\textbf{P$> |$t$|$} & \\textbf{[0.025} & \\textbf{0.975]}  \\\\\n",
       "\\midrule\n",
       "\\textbf{const} &       6.4602  &        0.318     &    20.342  &         0.000        &        5.834    &        7.087     \\\\\n",
       "\\textbf{x1}    &       0.0203  &        0.002     &    12.633  &         0.000        &        0.017    &        0.024     \\\\\n",
       "\\textbf{x2}    &       0.0229  &        0.011     &     2.009  &         0.046        &        0.000    &        0.045     \\\\\n",
       "\\textbf{x3}    &       0.0170  &        0.010     &     1.691  &         0.092        &       -0.003    &        0.037     \\\\\n",
       "\\textbf{x4}    &       0.0011  &     5.72e-05     &    19.930  &         0.000        &        0.001    &        0.001     \\\\\n",
       "\\textbf{x5}    &   -7.971e-05  &     3.58e-05     &    -2.227  &         0.027        &       -0.000    &    -9.12e-06     \\\\\n",
       "\\textbf{x6}    &      -0.0001  &        0.000     &    -0.464  &         0.643        &       -0.001    &        0.000     \\\\\n",
       "\\bottomrule\n",
       "\\end{tabular}\n",
       "\\begin{tabular}{lclc}\n",
       "\\textbf{Omnibus:}       & 111.385 & \\textbf{  Durbin-Watson:     } &     2.222  \\\\\n",
       "\\textbf{Prob(Omnibus):} &   0.000 & \\textbf{  Jarque-Bera (JB):  } &   767.483  \\\\\n",
       "\\textbf{Skew:}          &  -2.046 & \\textbf{  Prob(JB):          } & 2.20e-167  \\\\\n",
       "\\textbf{Kurtosis:}      &  11.681 & \\textbf{  Cond. No.          } &  3.80e+04  \\\\\n",
       "\\bottomrule\n",
       "\\end{tabular}\n",
       "%\\caption{OLS Regression Results}\n",
       "\\end{center}\n",
       "\n",
       "Notes: \\newline\n",
       " [1] Standard Errors assume that the covariance matrix of the errors is correctly specified. \\newline\n",
       " [2] The condition number is large, 3.8e+04. This might indicate that there are \\newline\n",
       " strong multicollinearity or other numerical problems."
      ],
      "text/plain": [
       "<class 'statsmodels.iolib.summary.Summary'>\n",
       "\"\"\"\n",
       "                            OLS Regression Results                            \n",
       "==============================================================================\n",
       "Dep. Variable:                  sales   R-squared:                       0.969\n",
       "Model:                            OLS   Adj. R-squared:                  0.968\n",
       "Method:                 Least Squares   F-statistic:                     993.3\n",
       "Date:                Thu, 28 Aug 2025   Prob (F-statistic):          3.68e-142\n",
       "Time:                        17:43:24   Log-Likelihood:                -267.49\n",
       "No. Observations:                 200   AIC:                             549.0\n",
       "Df Residuals:                     193   BIC:                             572.1\n",
       "Df Model:                           6                                         \n",
       "Covariance Type:            nonrobust                                         \n",
       "==============================================================================\n",
       "                 coef    std err          t      P>|t|      [0.025      0.975]\n",
       "------------------------------------------------------------------------------\n",
       "const          6.4602      0.318     20.342      0.000       5.834       7.087\n",
       "x1             0.0203      0.002     12.633      0.000       0.017       0.024\n",
       "x2             0.0229      0.011      2.009      0.046       0.000       0.045\n",
       "x3             0.0170      0.010      1.691      0.092      -0.003       0.037\n",
       "x4             0.0011   5.72e-05     19.930      0.000       0.001       0.001\n",
       "x5         -7.971e-05   3.58e-05     -2.227      0.027      -0.000   -9.12e-06\n",
       "x6            -0.0001      0.000     -0.464      0.643      -0.001       0.000\n",
       "==============================================================================\n",
       "Omnibus:                      111.385   Durbin-Watson:                   2.222\n",
       "Prob(Omnibus):                  0.000   Jarque-Bera (JB):              767.483\n",
       "Skew:                          -2.046   Prob(JB):                    2.20e-167\n",
       "Kurtosis:                      11.681   Cond. No.                     3.80e+04\n",
       "==============================================================================\n",
       "\n",
       "Notes:\n",
       "[1] Standard Errors assume that the covariance matrix of the errors is correctly specified.\n",
       "[2] The condition number is large, 3.8e+04. This might indicate that there are\n",
       "strong multicollinearity or other numerical problems.\n",
       "\"\"\""
      ]
     },
     "execution_count": 114,
     "metadata": {},
     "output_type": "execute_result"
    }
   ],
   "source": [
    "n=len(y)\n",
    "unos=np.ones([n,1])\n",
    "x1x2= x1*x2.reshape([-1,1])\n",
    "x1x3= x1*x3.reshape([-1,1])\n",
    "x2x3= x2*x3.reshape([-1,1])\n",
    "X=np.hstack([unos, x1,x2,x3,x1x2,x1x3,x2x3])\n",
    "# X es la concatenación de todos los factores\n",
    "ols= sm.OLS(y,X)\n",
    "results= ols.fit()\n",
    "results.summary()"
   ]
  },
  {
   "cell_type": "markdown",
   "id": "3898858d-5dda-42ae-b458-b5e7fcd2df76",
   "metadata": {},
   "source": [
    "## Referencia\n",
    "\n",
    "James, G., Witten, D., Hastie, T., Tibshirani, R.,, Taylor, J. (2023). An Introduction to Statistical Learning with Applications in Python. Cham: Springer. ISBN: 978-3-031-38746-3"
   ]
  },
  {
   "cell_type": "markdown",
   "id": "8a72b870-2174-4ea9-adac-260d6aa97067",
   "metadata": {},
   "source": [
    "## Addendum"
   ]
  },
  {
   "cell_type": "markdown",
   "id": "8dacc515-40ee-4ac8-a6f6-9e1a22b97313",
   "metadata": {},
   "source": [
    "Para calcular los *p-values* de los parámetros sin `statsmodels`:\n",
    "1. Calcular RSS\n",
    "2. Calcular RSE\n",
    "3. `var_beta = np.linalg.inv(X.T @ X) * rse**2` (X con columna de intercepto)\n",
    "4. `std_beta = np.sqrt(var_beta.diagonal())` El orden de los valores corresponde al orden de los factores en las columnas de la matriz $X$.\n",
    "5. Calcular *estadístico t*\n",
    "6. Calcular *p-value*"
   ]
  }
 ],
 "metadata": {
  "kernelspec": {
   "display_name": "Python [conda env:base] *",
   "language": "python",
   "name": "conda-base-py"
  },
  "language_info": {
   "codemirror_mode": {
    "name": "ipython",
    "version": 3
   },
   "file_extension": ".py",
   "mimetype": "text/x-python",
   "name": "python",
   "nbconvert_exporter": "python",
   "pygments_lexer": "ipython3",
   "version": "3.12.7"
  }
 },
 "nbformat": 4,
 "nbformat_minor": 5
}
